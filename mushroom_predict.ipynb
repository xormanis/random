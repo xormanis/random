{
 "cells": [
  {
   "cell_type": "code",
   "execution_count": 1,
   "metadata": {
    "collapsed": true
   },
   "outputs": [],
   "source": [
    "#Data analysis\n",
    "import pandas as pd\n",
    "import numpy as np\n",
    "\n",
    "#Visualisations and plots\n",
    "import seaborn as sns\n",
    "sns.set(style=\"white\", context=\"talk\")\n",
    "import matplotlib.pyplot as plt\n",
    "%matplotlib inline"
   ]
  },
  {
   "cell_type": "markdown",
   "metadata": {},
   "source": [
    "### Acquiring Data "
   ]
  },
  {
   "cell_type": "code",
   "execution_count": 2,
   "metadata": {},
   "outputs": [],
   "source": [
    "#training data\n",
    "train_db=pd.read_csv('mushroom_train.csv')\n",
    "#test data\n",
    "test_db=pd.read_csv('mushroom_test.csv')\n",
    "#combine data\n",
    "combine = [train_db, test_db]"
   ]
  },
  {
   "cell_type": "code",
   "execution_count": 3,
   "metadata": {},
   "outputs": [
    {
     "name": "stdout",
     "output_type": "stream",
     "text": [
      "25\n",
      "['class', 'cap-shape', 'cap-surface', 'cap-color', 'bruises', 'odor', 'gill-attachment', 'gill-spacing', 'gill-size', 'gill-color', 'stalk-shape', 'stalk-root', 'radius', 'stalk-surface-above-ring', 'stalk-surface-below-ring', 'stalk-color-above-ring', 'stalk-color-below-ring', 'veil-type', 'veil-color', 'weight', 'ring-number', 'ring-type', 'spore-print-color', 'population', 'habitat']\n"
     ]
    }
   ],
   "source": [
    "print len(train_db.columns.values)\n",
    "print list(train_db.columns.values)"
   ]
  },
  {
   "cell_type": "code",
   "execution_count": 4,
   "metadata": {},
   "outputs": [
    {
     "data": {
      "text/html": [
       "<div>\n",
       "<style>\n",
       "    .dataframe thead tr:only-child th {\n",
       "        text-align: right;\n",
       "    }\n",
       "\n",
       "    .dataframe thead th {\n",
       "        text-align: left;\n",
       "    }\n",
       "\n",
       "    .dataframe tbody tr th {\n",
       "        vertical-align: top;\n",
       "    }\n",
       "</style>\n",
       "<table border=\"1\" class=\"dataframe\">\n",
       "  <thead>\n",
       "    <tr style=\"text-align: right;\">\n",
       "      <th></th>\n",
       "      <th>radius</th>\n",
       "      <th>weight</th>\n",
       "    </tr>\n",
       "  </thead>\n",
       "  <tbody>\n",
       "    <tr>\n",
       "      <th>count</th>\n",
       "      <td>5686.000000</td>\n",
       "      <td>5686.000000</td>\n",
       "    </tr>\n",
       "    <tr>\n",
       "      <th>mean</th>\n",
       "      <td>202.627682</td>\n",
       "      <td>33.012487</td>\n",
       "    </tr>\n",
       "    <tr>\n",
       "      <th>std</th>\n",
       "      <td>350.213032</td>\n",
       "      <td>13.379082</td>\n",
       "    </tr>\n",
       "    <tr>\n",
       "      <th>min</th>\n",
       "      <td>1.000000</td>\n",
       "      <td>0.000000</td>\n",
       "    </tr>\n",
       "    <tr>\n",
       "      <th>25%</th>\n",
       "      <td>38.000000</td>\n",
       "      <td>23.000000</td>\n",
       "    </tr>\n",
       "    <tr>\n",
       "      <th>50%</th>\n",
       "      <td>129.000000</td>\n",
       "      <td>27.000000</td>\n",
       "    </tr>\n",
       "    <tr>\n",
       "      <th>75%</th>\n",
       "      <td>259.000000</td>\n",
       "      <td>40.000000</td>\n",
       "    </tr>\n",
       "    <tr>\n",
       "      <th>max</th>\n",
       "      <td>3500.000000</td>\n",
       "      <td>102.000000</td>\n",
       "    </tr>\n",
       "  </tbody>\n",
       "</table>\n",
       "</div>"
      ],
      "text/plain": [
       "            radius       weight\n",
       "count  5686.000000  5686.000000\n",
       "mean    202.627682    33.012487\n",
       "std     350.213032    13.379082\n",
       "min       1.000000     0.000000\n",
       "25%      38.000000    23.000000\n",
       "50%     129.000000    27.000000\n",
       "75%     259.000000    40.000000\n",
       "max    3500.000000   102.000000"
      ]
     },
     "execution_count": 4,
     "metadata": {},
     "output_type": "execute_result"
    }
   ],
   "source": [
    "train_db.describe()"
   ]
  },
  {
   "cell_type": "markdown",
   "metadata": {},
   "source": [
    "The data set contains only two continious variables the rest of the freatures are categorical"
   ]
  },
  {
   "cell_type": "code",
   "execution_count": 5,
   "metadata": {},
   "outputs": [
    {
     "data": {
      "text/html": [
       "<div>\n",
       "<style>\n",
       "    .dataframe thead tr:only-child th {\n",
       "        text-align: right;\n",
       "    }\n",
       "\n",
       "    .dataframe thead th {\n",
       "        text-align: left;\n",
       "    }\n",
       "\n",
       "    .dataframe tbody tr th {\n",
       "        vertical-align: top;\n",
       "    }\n",
       "</style>\n",
       "<table border=\"1\" class=\"dataframe\">\n",
       "  <thead>\n",
       "    <tr style=\"text-align: right;\">\n",
       "      <th></th>\n",
       "      <th>class</th>\n",
       "      <th>cap-shape</th>\n",
       "      <th>cap-surface</th>\n",
       "      <th>cap-color</th>\n",
       "      <th>bruises</th>\n",
       "      <th>odor</th>\n",
       "      <th>gill-attachment</th>\n",
       "      <th>gill-spacing</th>\n",
       "      <th>gill-size</th>\n",
       "      <th>gill-color</th>\n",
       "      <th>...</th>\n",
       "      <th>stalk-color-above-ring</th>\n",
       "      <th>stalk-color-below-ring</th>\n",
       "      <th>veil-type</th>\n",
       "      <th>veil-color</th>\n",
       "      <th>weight</th>\n",
       "      <th>ring-number</th>\n",
       "      <th>ring-type</th>\n",
       "      <th>spore-print-color</th>\n",
       "      <th>population</th>\n",
       "      <th>habitat</th>\n",
       "    </tr>\n",
       "  </thead>\n",
       "  <tbody>\n",
       "    <tr>\n",
       "      <th>0</th>\n",
       "      <td>p</td>\n",
       "      <td>f</td>\n",
       "      <td>s</td>\n",
       "      <td>e</td>\n",
       "      <td>f</td>\n",
       "      <td>s</td>\n",
       "      <td>f</td>\n",
       "      <td>c</td>\n",
       "      <td>n</td>\n",
       "      <td>b</td>\n",
       "      <td>...</td>\n",
       "      <td>p</td>\n",
       "      <td>w</td>\n",
       "      <td>p</td>\n",
       "      <td>w</td>\n",
       "      <td>38</td>\n",
       "      <td>o</td>\n",
       "      <td>e</td>\n",
       "      <td>w</td>\n",
       "      <td>v</td>\n",
       "      <td>l</td>\n",
       "    </tr>\n",
       "    <tr>\n",
       "      <th>1</th>\n",
       "      <td>p</td>\n",
       "      <td>x</td>\n",
       "      <td>y</td>\n",
       "      <td>w</td>\n",
       "      <td>t</td>\n",
       "      <td>p</td>\n",
       "      <td>f</td>\n",
       "      <td>c</td>\n",
       "      <td>n</td>\n",
       "      <td>k</td>\n",
       "      <td>...</td>\n",
       "      <td>w</td>\n",
       "      <td>w</td>\n",
       "      <td>p</td>\n",
       "      <td>w</td>\n",
       "      <td>43</td>\n",
       "      <td>o</td>\n",
       "      <td>p</td>\n",
       "      <td>n</td>\n",
       "      <td>v</td>\n",
       "      <td>u</td>\n",
       "    </tr>\n",
       "    <tr>\n",
       "      <th>2</th>\n",
       "      <td>e</td>\n",
       "      <td>f</td>\n",
       "      <td>s</td>\n",
       "      <td>n</td>\n",
       "      <td>t</td>\n",
       "      <td>n</td>\n",
       "      <td>f</td>\n",
       "      <td>c</td>\n",
       "      <td>b</td>\n",
       "      <td>e</td>\n",
       "      <td>...</td>\n",
       "      <td>e</td>\n",
       "      <td>e</td>\n",
       "      <td>p</td>\n",
       "      <td>w</td>\n",
       "      <td>37</td>\n",
       "      <td>t</td>\n",
       "      <td>e</td>\n",
       "      <td>w</td>\n",
       "      <td>c</td>\n",
       "      <td>w</td>\n",
       "    </tr>\n",
       "    <tr>\n",
       "      <th>3</th>\n",
       "      <td>p</td>\n",
       "      <td>x</td>\n",
       "      <td>s</td>\n",
       "      <td>e</td>\n",
       "      <td>f</td>\n",
       "      <td>y</td>\n",
       "      <td>f</td>\n",
       "      <td>c</td>\n",
       "      <td>n</td>\n",
       "      <td>b</td>\n",
       "      <td>...</td>\n",
       "      <td>p</td>\n",
       "      <td>w</td>\n",
       "      <td>p</td>\n",
       "      <td>w</td>\n",
       "      <td>82</td>\n",
       "      <td>o</td>\n",
       "      <td>e</td>\n",
       "      <td>w</td>\n",
       "      <td>v</td>\n",
       "      <td>l</td>\n",
       "    </tr>\n",
       "    <tr>\n",
       "      <th>4</th>\n",
       "      <td>e</td>\n",
       "      <td>x</td>\n",
       "      <td>s</td>\n",
       "      <td>w</td>\n",
       "      <td>t</td>\n",
       "      <td>l</td>\n",
       "      <td>f</td>\n",
       "      <td>c</td>\n",
       "      <td>b</td>\n",
       "      <td>n</td>\n",
       "      <td>...</td>\n",
       "      <td>w</td>\n",
       "      <td>w</td>\n",
       "      <td>p</td>\n",
       "      <td>w</td>\n",
       "      <td>36</td>\n",
       "      <td>o</td>\n",
       "      <td>p</td>\n",
       "      <td>n</td>\n",
       "      <td>s</td>\n",
       "      <td>m</td>\n",
       "    </tr>\n",
       "  </tbody>\n",
       "</table>\n",
       "<p>5 rows × 25 columns</p>\n",
       "</div>"
      ],
      "text/plain": [
       "  class cap-shape cap-surface cap-color bruises odor gill-attachment  \\\n",
       "0     p         f           s         e       f    s               f   \n",
       "1     p         x           y         w       t    p               f   \n",
       "2     e         f           s         n       t    n               f   \n",
       "3     p         x           s         e       f    y               f   \n",
       "4     e         x           s         w       t    l               f   \n",
       "\n",
       "  gill-spacing gill-size gill-color   ...    stalk-color-above-ring  \\\n",
       "0            c         n          b   ...                         p   \n",
       "1            c         n          k   ...                         w   \n",
       "2            c         b          e   ...                         e   \n",
       "3            c         n          b   ...                         p   \n",
       "4            c         b          n   ...                         w   \n",
       "\n",
       "  stalk-color-below-ring  veil-type veil-color weight ring-number ring-type  \\\n",
       "0                      w          p          w     38           o         e   \n",
       "1                      w          p          w     43           o         p   \n",
       "2                      e          p          w     37           t         e   \n",
       "3                      w          p          w     82           o         e   \n",
       "4                      w          p          w     36           o         p   \n",
       "\n",
       "  spore-print-color population  habitat  \n",
       "0                 w          v        l  \n",
       "1                 n          v        u  \n",
       "2                 w          c        w  \n",
       "3                 w          v        l  \n",
       "4                 n          s        m  \n",
       "\n",
       "[5 rows x 25 columns]"
      ]
     },
     "execution_count": 5,
     "metadata": {},
     "output_type": "execute_result"
    }
   ],
   "source": [
    "train_db.head()"
   ]
  },
  {
   "cell_type": "code",
   "execution_count": 6,
   "metadata": {},
   "outputs": [
    {
     "data": {
      "text/html": [
       "<div>\n",
       "<style>\n",
       "    .dataframe thead tr:only-child th {\n",
       "        text-align: right;\n",
       "    }\n",
       "\n",
       "    .dataframe thead th {\n",
       "        text-align: left;\n",
       "    }\n",
       "\n",
       "    .dataframe tbody tr th {\n",
       "        vertical-align: top;\n",
       "    }\n",
       "</style>\n",
       "<table border=\"1\" class=\"dataframe\">\n",
       "  <thead>\n",
       "    <tr style=\"text-align: right;\">\n",
       "      <th></th>\n",
       "      <th>class</th>\n",
       "      <th>cap-shape</th>\n",
       "      <th>cap-surface</th>\n",
       "      <th>cap-color</th>\n",
       "      <th>bruises</th>\n",
       "      <th>odor</th>\n",
       "      <th>gill-attachment</th>\n",
       "      <th>gill-spacing</th>\n",
       "      <th>gill-size</th>\n",
       "      <th>gill-color</th>\n",
       "      <th>...</th>\n",
       "      <th>stalk-color-above-ring</th>\n",
       "      <th>stalk-color-below-ring</th>\n",
       "      <th>veil-type</th>\n",
       "      <th>veil-color</th>\n",
       "      <th>weight</th>\n",
       "      <th>ring-number</th>\n",
       "      <th>ring-type</th>\n",
       "      <th>spore-print-color</th>\n",
       "      <th>population</th>\n",
       "      <th>habitat</th>\n",
       "    </tr>\n",
       "  </thead>\n",
       "  <tbody>\n",
       "    <tr>\n",
       "      <th>5681</th>\n",
       "      <td>p</td>\n",
       "      <td>f</td>\n",
       "      <td>y</td>\n",
       "      <td>e</td>\n",
       "      <td>f</td>\n",
       "      <td>f</td>\n",
       "      <td>f</td>\n",
       "      <td>c</td>\n",
       "      <td>n</td>\n",
       "      <td>b</td>\n",
       "      <td>...</td>\n",
       "      <td>p</td>\n",
       "      <td>p</td>\n",
       "      <td>p</td>\n",
       "      <td>w</td>\n",
       "      <td>23</td>\n",
       "      <td>o</td>\n",
       "      <td>e</td>\n",
       "      <td>w</td>\n",
       "      <td>v</td>\n",
       "      <td>p</td>\n",
       "    </tr>\n",
       "    <tr>\n",
       "      <th>5682</th>\n",
       "      <td>e</td>\n",
       "      <td>k</td>\n",
       "      <td>s</td>\n",
       "      <td>e</td>\n",
       "      <td>t</td>\n",
       "      <td>n</td>\n",
       "      <td>f</td>\n",
       "      <td>c</td>\n",
       "      <td>b</td>\n",
       "      <td>e</td>\n",
       "      <td>...</td>\n",
       "      <td>w</td>\n",
       "      <td>w</td>\n",
       "      <td>p</td>\n",
       "      <td>w</td>\n",
       "      <td>23</td>\n",
       "      <td>t</td>\n",
       "      <td>e</td>\n",
       "      <td>w</td>\n",
       "      <td>c</td>\n",
       "      <td>w</td>\n",
       "    </tr>\n",
       "    <tr>\n",
       "      <th>5683</th>\n",
       "      <td>p</td>\n",
       "      <td>x</td>\n",
       "      <td>f</td>\n",
       "      <td>g</td>\n",
       "      <td>f</td>\n",
       "      <td>c</td>\n",
       "      <td>f</td>\n",
       "      <td>c</td>\n",
       "      <td>n</td>\n",
       "      <td>u</td>\n",
       "      <td>...</td>\n",
       "      <td>w</td>\n",
       "      <td>w</td>\n",
       "      <td>p</td>\n",
       "      <td>w</td>\n",
       "      <td>23</td>\n",
       "      <td>o</td>\n",
       "      <td>p</td>\n",
       "      <td>k</td>\n",
       "      <td>v</td>\n",
       "      <td>d</td>\n",
       "    </tr>\n",
       "    <tr>\n",
       "      <th>5684</th>\n",
       "      <td>p</td>\n",
       "      <td>f</td>\n",
       "      <td>s</td>\n",
       "      <td>n</td>\n",
       "      <td>f</td>\n",
       "      <td>s</td>\n",
       "      <td>f</td>\n",
       "      <td>c</td>\n",
       "      <td>n</td>\n",
       "      <td>b</td>\n",
       "      <td>...</td>\n",
       "      <td>w</td>\n",
       "      <td>w</td>\n",
       "      <td>p</td>\n",
       "      <td>w</td>\n",
       "      <td>50</td>\n",
       "      <td>o</td>\n",
       "      <td>e</td>\n",
       "      <td>w</td>\n",
       "      <td>v</td>\n",
       "      <td>p</td>\n",
       "    </tr>\n",
       "    <tr>\n",
       "      <th>5685</th>\n",
       "      <td>e</td>\n",
       "      <td>b</td>\n",
       "      <td>s</td>\n",
       "      <td>w</td>\n",
       "      <td>t</td>\n",
       "      <td>a</td>\n",
       "      <td>f</td>\n",
       "      <td>c</td>\n",
       "      <td>b</td>\n",
       "      <td>w</td>\n",
       "      <td>...</td>\n",
       "      <td>w</td>\n",
       "      <td>w</td>\n",
       "      <td>p</td>\n",
       "      <td>w</td>\n",
       "      <td>23</td>\n",
       "      <td>o</td>\n",
       "      <td>p</td>\n",
       "      <td>n</td>\n",
       "      <td>s</td>\n",
       "      <td>m</td>\n",
       "    </tr>\n",
       "  </tbody>\n",
       "</table>\n",
       "<p>5 rows × 25 columns</p>\n",
       "</div>"
      ],
      "text/plain": [
       "     class cap-shape cap-surface cap-color bruises odor gill-attachment  \\\n",
       "5681     p         f           y         e       f    f               f   \n",
       "5682     e         k           s         e       t    n               f   \n",
       "5683     p         x           f         g       f    c               f   \n",
       "5684     p         f           s         n       f    s               f   \n",
       "5685     e         b           s         w       t    a               f   \n",
       "\n",
       "     gill-spacing gill-size gill-color   ...    stalk-color-above-ring  \\\n",
       "5681            c         n          b   ...                         p   \n",
       "5682            c         b          e   ...                         w   \n",
       "5683            c         n          u   ...                         w   \n",
       "5684            c         n          b   ...                         w   \n",
       "5685            c         b          w   ...                         w   \n",
       "\n",
       "     stalk-color-below-ring  veil-type veil-color weight ring-number  \\\n",
       "5681                      p          p          w     23           o   \n",
       "5682                      w          p          w     23           t   \n",
       "5683                      w          p          w     23           o   \n",
       "5684                      w          p          w     50           o   \n",
       "5685                      w          p          w     23           o   \n",
       "\n",
       "     ring-type spore-print-color population  habitat  \n",
       "5681         e                 w          v        p  \n",
       "5682         e                 w          c        w  \n",
       "5683         p                 k          v        d  \n",
       "5684         e                 w          v        p  \n",
       "5685         p                 n          s        m  \n",
       "\n",
       "[5 rows x 25 columns]"
      ]
     },
     "execution_count": 6,
     "metadata": {},
     "output_type": "execute_result"
    }
   ],
   "source": [
    "train_db.tail()"
   ]
  },
  {
   "cell_type": "code",
   "execution_count": 7,
   "metadata": {},
   "outputs": [
    {
     "name": "stdout",
     "output_type": "stream",
     "text": [
      "<class 'pandas.core.frame.DataFrame'>\n",
      "RangeIndex: 5686 entries, 0 to 5685\n",
      "Data columns (total 25 columns):\n",
      "class                       5686 non-null object\n",
      "cap-shape                   5686 non-null object\n",
      "cap-surface                 5686 non-null object\n",
      "cap-color                   5686 non-null object\n",
      "bruises                     5686 non-null object\n",
      "odor                        5686 non-null object\n",
      "gill-attachment             5686 non-null object\n",
      "gill-spacing                5686 non-null object\n",
      "gill-size                   5686 non-null object\n",
      "gill-color                  5686 non-null object\n",
      "stalk-shape                 5686 non-null object\n",
      "stalk-root                  5686 non-null object\n",
      "radius                      5686 non-null int64\n",
      "stalk-surface-above-ring    5686 non-null object\n",
      "stalk-surface-below-ring    5686 non-null object\n",
      "stalk-color-above-ring      5686 non-null object\n",
      "stalk-color-below-ring      5686 non-null object\n",
      "veil-type                   5686 non-null object\n",
      "veil-color                  5686 non-null object\n",
      "weight                      5686 non-null int64\n",
      "ring-number                 5686 non-null object\n",
      "ring-type                   5686 non-null object\n",
      "spore-print-color           5686 non-null object\n",
      "population                  5686 non-null object\n",
      "habitat                     5686 non-null object\n",
      "dtypes: int64(2), object(23)\n",
      "memory usage: 1.1+ MB\n",
      "None\n",
      "................................................................................\n",
      "<class 'pandas.core.frame.DataFrame'>\n",
      "RangeIndex: 2438 entries, 0 to 2437\n",
      "Data columns (total 24 columns):\n",
      "cap-shape                   2438 non-null object\n",
      "cap-surface                 2438 non-null object\n",
      "cap-color                   2438 non-null object\n",
      "bruises                     2438 non-null object\n",
      "odor                        2438 non-null object\n",
      "gill-attachment             2438 non-null object\n",
      "gill-spacing                2438 non-null object\n",
      "gill-size                   2438 non-null object\n",
      "gill-color                  2438 non-null object\n",
      "stalk-shape                 2438 non-null object\n",
      "stalk-root                  2438 non-null object\n",
      "radius                      2438 non-null int64\n",
      "stalk-surface-above-ring    2438 non-null object\n",
      "stalk-surface-below-ring    2438 non-null object\n",
      "stalk-color-above-ring      2438 non-null object\n",
      "stalk-color-below-ring      2438 non-null object\n",
      "veil-type                   2438 non-null object\n",
      "veil-color                  2438 non-null object\n",
      "weight                      2438 non-null int64\n",
      "ring-number                 2438 non-null object\n",
      "ring-type                   2438 non-null object\n",
      "spore-print-color           2438 non-null object\n",
      "population                  2438 non-null object\n",
      "habitat                     2438 non-null object\n",
      "dtypes: int64(2), object(22)\n",
      "memory usage: 457.2+ KB\n",
      "None\n"
     ]
    }
   ],
   "source": [
    "print train_db.info()\n",
    "print '.'*80\n",
    "print test_db.info()"
   ]
  },
  {
   "cell_type": "markdown",
   "metadata": {},
   "source": [
    "Information we get \n",
    "    1. There ae 5686 and 2438 colums in train and test data set respectively \n",
    "    2. We have to use the 24 columns in our given train data set for further ananlysis\n",
    "    3. The train data set contains no null values ('?'- given as null value in problem statement but the python  command reading '?' as in a string format)\n",
    "    4. Values of radius and weight is of integer type"
   ]
  },
  {
   "cell_type": "markdown",
   "metadata": {},
   "source": [
    "Making a seperate list of categorical vaiables "
   ]
  },
  {
   "cell_type": "code",
   "execution_count": 8,
   "metadata": {
    "collapsed": true
   },
   "outputs": [],
   "source": [
    "categorical_variables = train_db.dtypes[train_db.dtypes=='object'].index.values"
   ]
  },
  {
   "cell_type": "markdown",
   "metadata": {},
   "source": [
    "Number of different catregorical entries in each column"
   ]
  },
  {
   "cell_type": "code",
   "execution_count": 9,
   "metadata": {},
   "outputs": [
    {
     "data": {
      "text/plain": [
       "class                        2\n",
       "cap-shape                    6\n",
       "cap-surface                  4\n",
       "cap-color                   10\n",
       "bruises                      2\n",
       "odor                         9\n",
       "gill-attachment              2\n",
       "gill-spacing                 2\n",
       "gill-size                    2\n",
       "gill-color                  12\n",
       "stalk-shape                  2\n",
       "stalk-root                   5\n",
       "stalk-surface-above-ring     4\n",
       "stalk-surface-below-ring     4\n",
       "stalk-color-above-ring       9\n",
       "stalk-color-below-ring       9\n",
       "veil-type                    1\n",
       "veil-color                   4\n",
       "ring-number                  3\n",
       "ring-type                    5\n",
       "spore-print-color            9\n",
       "population                   6\n",
       "habitat                      7\n",
       "dtype: int64"
      ]
     },
     "execution_count": 9,
     "metadata": {},
     "output_type": "execute_result"
    }
   ],
   "source": [
    "train_db[categorical_variables].apply(lambda x: len(x.unique()))"
   ]
  },
  {
   "cell_type": "markdown",
   "metadata": {},
   "source": [
    "Here from the above results we see that there is only one type of categorical variable in the column viel-type. So it has high correlation with the other variables in the train data set and also due to same varible in a column the variable is not going to affect our results. So it is clear that we should drop that column from the training and test data set"
   ]
  },
  {
   "cell_type": "code",
   "execution_count": 10,
   "metadata": {},
   "outputs": [],
   "source": [
    "train_db = train_db.drop('veil-type', axis=1)\n",
    "test_db = test_db.drop('veil-type', axis=1)"
   ]
  },
  {
   "cell_type": "code",
   "execution_count": 11,
   "metadata": {},
   "outputs": [
    {
     "data": {
      "text/plain": [
       "class                        2\n",
       "cap-shape                    6\n",
       "cap-surface                  4\n",
       "cap-color                   10\n",
       "bruises                      2\n",
       "odor                         9\n",
       "gill-attachment              2\n",
       "gill-spacing                 2\n",
       "gill-size                    2\n",
       "gill-color                  12\n",
       "stalk-shape                  2\n",
       "stalk-root                   5\n",
       "stalk-surface-above-ring     4\n",
       "stalk-surface-below-ring     4\n",
       "stalk-color-above-ring       9\n",
       "stalk-color-below-ring       9\n",
       "veil-color                   4\n",
       "ring-number                  3\n",
       "ring-type                    5\n",
       "spore-print-color            9\n",
       "population                   6\n",
       "habitat                      7\n",
       "dtype: int64"
      ]
     },
     "execution_count": 11,
     "metadata": {},
     "output_type": "execute_result"
    }
   ],
   "source": [
    "categorical_variables = train_db.dtypes[train_db.dtypes=='object'].index.values\n",
    "train_db[categorical_variables].apply(lambda x: len(x.unique()))"
   ]
  },
  {
   "cell_type": "code",
   "execution_count": 12,
   "metadata": {},
   "outputs": [
    {
     "name": "stdout",
     "output_type": "stream",
     "text": [
      "number of missing values of stalk-root in train data set is : 1727\n",
      "number of missing values of stalk-root in test data set is : 753\n"
     ]
    }
   ],
   "source": [
    "print \"number of missing values of stalk-root in train data set is : %d\" %len(train_db[train_db['stalk-root']=='?'])\n",
    "print \"number of missing values of stalk-root in test data set is : %d\" %len(test_db[test_db['stalk-root']=='?'])"
   ]
  },
  {
   "cell_type": "code",
   "execution_count": 13,
   "metadata": {},
   "outputs": [],
   "source": [
    "#its good and safe to make a copy of our original data \n",
    "train_db_orignal = train_db.copy()\n",
    "test_db_orignal = test_db.copy()"
   ]
  },
  {
   "cell_type": "markdown",
   "metadata": {},
   "source": [
    "    There are total 1727 missing values(?) in stalk-root column in the given data set which is quite significant \n",
    "    Here the data set contains a missing variable in the column stalk-root but it in the form of string due to which python is not identifying that as NaN\n",
    "    if we do label encoding without considering '?' as a missing value then python treat that as a new variable and do label encoding for that by considering it as a variable \n",
    "\n",
    "    Here we can go with two approaches as  \n",
    "        1. considering ? as a variable field of stalk-root \n",
    "    \n",
    "        2. Replacing the ? with some other variables \n",
    "\n",
    "    First I am following the 1 method mentioned above and checking accuracy for different models "
   ]
  },
  {
   "cell_type": "code",
   "execution_count": 14,
   "metadata": {
    "collapsed": true
   },
   "outputs": [],
   "source": [
    "from sklearn.preprocessing import LabelEncoder\n",
    "le = LabelEncoder()"
   ]
  },
  {
   "cell_type": "markdown",
   "metadata": {},
   "source": [
    "    Encoding the categorical varibles with a numeric number, same number for same object so that it simplifies   our analysis"
   ]
  },
  {
   "cell_type": "code",
   "execution_count": 15,
   "metadata": {
    "collapsed": true
   },
   "outputs": [],
   "source": [
    "for variables in categorical_variables:\n",
    "    train_db[variables]=le.fit_transform(train_db[variables])\n",
    "    if variables!='class':\n",
    "        test_db[variables]=le.fit_transform(test_db[variables])"
   ]
  },
  {
   "cell_type": "code",
   "execution_count": 16,
   "metadata": {},
   "outputs": [
    {
     "data": {
      "text/html": [
       "<div>\n",
       "<style>\n",
       "    .dataframe thead tr:only-child th {\n",
       "        text-align: right;\n",
       "    }\n",
       "\n",
       "    .dataframe thead th {\n",
       "        text-align: left;\n",
       "    }\n",
       "\n",
       "    .dataframe tbody tr th {\n",
       "        vertical-align: top;\n",
       "    }\n",
       "</style>\n",
       "<table border=\"1\" class=\"dataframe\">\n",
       "  <thead>\n",
       "    <tr style=\"text-align: right;\">\n",
       "      <th></th>\n",
       "      <th>class</th>\n",
       "      <th>cap-shape</th>\n",
       "      <th>cap-surface</th>\n",
       "      <th>cap-color</th>\n",
       "      <th>bruises</th>\n",
       "      <th>odor</th>\n",
       "      <th>gill-attachment</th>\n",
       "      <th>gill-spacing</th>\n",
       "      <th>gill-size</th>\n",
       "      <th>gill-color</th>\n",
       "      <th>...</th>\n",
       "      <th>stalk-surface-below-ring</th>\n",
       "      <th>stalk-color-above-ring</th>\n",
       "      <th>stalk-color-below-ring</th>\n",
       "      <th>veil-color</th>\n",
       "      <th>weight</th>\n",
       "      <th>ring-number</th>\n",
       "      <th>ring-type</th>\n",
       "      <th>spore-print-color</th>\n",
       "      <th>population</th>\n",
       "      <th>habitat</th>\n",
       "    </tr>\n",
       "  </thead>\n",
       "  <tbody>\n",
       "    <tr>\n",
       "      <th>0</th>\n",
       "      <td>1</td>\n",
       "      <td>2</td>\n",
       "      <td>2</td>\n",
       "      <td>2</td>\n",
       "      <td>0</td>\n",
       "      <td>7</td>\n",
       "      <td>1</td>\n",
       "      <td>0</td>\n",
       "      <td>1</td>\n",
       "      <td>0</td>\n",
       "      <td>...</td>\n",
       "      <td>1</td>\n",
       "      <td>6</td>\n",
       "      <td>7</td>\n",
       "      <td>2</td>\n",
       "      <td>38</td>\n",
       "      <td>1</td>\n",
       "      <td>0</td>\n",
       "      <td>7</td>\n",
       "      <td>4</td>\n",
       "      <td>2</td>\n",
       "    </tr>\n",
       "    <tr>\n",
       "      <th>1</th>\n",
       "      <td>1</td>\n",
       "      <td>5</td>\n",
       "      <td>3</td>\n",
       "      <td>8</td>\n",
       "      <td>1</td>\n",
       "      <td>6</td>\n",
       "      <td>1</td>\n",
       "      <td>0</td>\n",
       "      <td>1</td>\n",
       "      <td>4</td>\n",
       "      <td>...</td>\n",
       "      <td>2</td>\n",
       "      <td>7</td>\n",
       "      <td>7</td>\n",
       "      <td>2</td>\n",
       "      <td>43</td>\n",
       "      <td>1</td>\n",
       "      <td>4</td>\n",
       "      <td>3</td>\n",
       "      <td>4</td>\n",
       "      <td>5</td>\n",
       "    </tr>\n",
       "    <tr>\n",
       "      <th>2</th>\n",
       "      <td>0</td>\n",
       "      <td>2</td>\n",
       "      <td>2</td>\n",
       "      <td>4</td>\n",
       "      <td>1</td>\n",
       "      <td>5</td>\n",
       "      <td>1</td>\n",
       "      <td>0</td>\n",
       "      <td>0</td>\n",
       "      <td>1</td>\n",
       "      <td>...</td>\n",
       "      <td>2</td>\n",
       "      <td>2</td>\n",
       "      <td>2</td>\n",
       "      <td>2</td>\n",
       "      <td>37</td>\n",
       "      <td>2</td>\n",
       "      <td>0</td>\n",
       "      <td>7</td>\n",
       "      <td>1</td>\n",
       "      <td>6</td>\n",
       "    </tr>\n",
       "    <tr>\n",
       "      <th>3</th>\n",
       "      <td>1</td>\n",
       "      <td>5</td>\n",
       "      <td>2</td>\n",
       "      <td>2</td>\n",
       "      <td>0</td>\n",
       "      <td>8</td>\n",
       "      <td>1</td>\n",
       "      <td>0</td>\n",
       "      <td>1</td>\n",
       "      <td>0</td>\n",
       "      <td>...</td>\n",
       "      <td>2</td>\n",
       "      <td>6</td>\n",
       "      <td>7</td>\n",
       "      <td>2</td>\n",
       "      <td>82</td>\n",
       "      <td>1</td>\n",
       "      <td>0</td>\n",
       "      <td>7</td>\n",
       "      <td>4</td>\n",
       "      <td>2</td>\n",
       "    </tr>\n",
       "    <tr>\n",
       "      <th>4</th>\n",
       "      <td>0</td>\n",
       "      <td>5</td>\n",
       "      <td>2</td>\n",
       "      <td>8</td>\n",
       "      <td>1</td>\n",
       "      <td>3</td>\n",
       "      <td>1</td>\n",
       "      <td>0</td>\n",
       "      <td>0</td>\n",
       "      <td>5</td>\n",
       "      <td>...</td>\n",
       "      <td>2</td>\n",
       "      <td>7</td>\n",
       "      <td>7</td>\n",
       "      <td>2</td>\n",
       "      <td>36</td>\n",
       "      <td>1</td>\n",
       "      <td>4</td>\n",
       "      <td>3</td>\n",
       "      <td>3</td>\n",
       "      <td>3</td>\n",
       "    </tr>\n",
       "  </tbody>\n",
       "</table>\n",
       "<p>5 rows × 24 columns</p>\n",
       "</div>"
      ],
      "text/plain": [
       "   class  cap-shape  cap-surface  cap-color  bruises  odor  gill-attachment  \\\n",
       "0      1          2            2          2        0     7                1   \n",
       "1      1          5            3          8        1     6                1   \n",
       "2      0          2            2          4        1     5                1   \n",
       "3      1          5            2          2        0     8                1   \n",
       "4      0          5            2          8        1     3                1   \n",
       "\n",
       "   gill-spacing  gill-size  gill-color   ...     stalk-surface-below-ring  \\\n",
       "0             0          1           0   ...                            1   \n",
       "1             0          1           4   ...                            2   \n",
       "2             0          0           1   ...                            2   \n",
       "3             0          1           0   ...                            2   \n",
       "4             0          0           5   ...                            2   \n",
       "\n",
       "   stalk-color-above-ring  stalk-color-below-ring  veil-color  weight  \\\n",
       "0                       6                       7           2      38   \n",
       "1                       7                       7           2      43   \n",
       "2                       2                       2           2      37   \n",
       "3                       6                       7           2      82   \n",
       "4                       7                       7           2      36   \n",
       "\n",
       "   ring-number  ring-type  spore-print-color  population  habitat  \n",
       "0            1          0                  7           4        2  \n",
       "1            1          4                  3           4        5  \n",
       "2            2          0                  7           1        6  \n",
       "3            1          0                  7           4        2  \n",
       "4            1          4                  3           3        3  \n",
       "\n",
       "[5 rows x 24 columns]"
      ]
     },
     "execution_count": 16,
     "metadata": {},
     "output_type": "execute_result"
    }
   ],
   "source": [
    "train_db.head()"
   ]
  },
  {
   "cell_type": "markdown",
   "metadata": {},
   "source": [
    "    Categorical features in our train data set are encoded with an integer \n",
    "    let's check the mapping "
   ]
  },
  {
   "cell_type": "code",
   "execution_count": 17,
   "metadata": {},
   "outputs": [
    {
     "name": "stdout",
     "output_type": "stream",
     "text": [
      "count of p class: 2741\n",
      "count of e class: 2945\n"
     ]
    }
   ],
   "source": [
    "count_class = train_db['class']\n",
    "print  \"count of p class: %d\" %sum(count_class)\n",
    "print \"count of e class: %d\" %(len(count_class)-sum(count_class))"
   ]
  },
  {
   "cell_type": "markdown",
   "metadata": {},
   "source": [
    "    Here the two values of outputs(i.e. to be predicted) in train data set are nearly 50-50% i.e both are equally distributed"
   ]
  },
  {
   "cell_type": "markdown",
   "metadata": {},
   "source": [
    "Correlation between the features"
   ]
  },
  {
   "cell_type": "code",
   "execution_count": 18,
   "metadata": {},
   "outputs": [
    {
     "data": {
      "text/html": [
       "<div>\n",
       "<style>\n",
       "    .dataframe thead tr:only-child th {\n",
       "        text-align: right;\n",
       "    }\n",
       "\n",
       "    .dataframe thead th {\n",
       "        text-align: left;\n",
       "    }\n",
       "\n",
       "    .dataframe tbody tr th {\n",
       "        vertical-align: top;\n",
       "    }\n",
       "</style>\n",
       "<table border=\"1\" class=\"dataframe\">\n",
       "  <thead>\n",
       "    <tr style=\"text-align: right;\">\n",
       "      <th></th>\n",
       "      <th>class</th>\n",
       "      <th>cap-shape</th>\n",
       "      <th>cap-surface</th>\n",
       "      <th>cap-color</th>\n",
       "      <th>bruises</th>\n",
       "      <th>odor</th>\n",
       "      <th>gill-attachment</th>\n",
       "      <th>gill-spacing</th>\n",
       "      <th>gill-size</th>\n",
       "      <th>gill-color</th>\n",
       "      <th>...</th>\n",
       "      <th>stalk-surface-below-ring</th>\n",
       "      <th>stalk-color-above-ring</th>\n",
       "      <th>stalk-color-below-ring</th>\n",
       "      <th>veil-color</th>\n",
       "      <th>weight</th>\n",
       "      <th>ring-number</th>\n",
       "      <th>ring-type</th>\n",
       "      <th>spore-print-color</th>\n",
       "      <th>population</th>\n",
       "      <th>habitat</th>\n",
       "    </tr>\n",
       "  </thead>\n",
       "  <tbody>\n",
       "    <tr>\n",
       "      <th>class</th>\n",
       "      <td>1.000000</td>\n",
       "      <td>0.042155</td>\n",
       "      <td>0.176899</td>\n",
       "      <td>-0.018315</td>\n",
       "      <td>-0.502157</td>\n",
       "      <td>-0.091765</td>\n",
       "      <td>0.119715</td>\n",
       "      <td>-0.348396</td>\n",
       "      <td>0.539296</td>\n",
       "      <td>-0.531714</td>\n",
       "      <td>...</td>\n",
       "      <td>-0.303188</td>\n",
       "      <td>-0.141789</td>\n",
       "      <td>-0.140983</td>\n",
       "      <td>0.139915</td>\n",
       "      <td>0.007413</td>\n",
       "      <td>-0.217923</td>\n",
       "      <td>-0.413472</td>\n",
       "      <td>0.164303</td>\n",
       "      <td>0.292035</td>\n",
       "      <td>0.216358</td>\n",
       "    </tr>\n",
       "    <tr>\n",
       "      <th>cap-shape</th>\n",
       "      <td>0.042155</td>\n",
       "      <td>1.000000</td>\n",
       "      <td>-0.050507</td>\n",
       "      <td>-0.049525</td>\n",
       "      <td>-0.028575</td>\n",
       "      <td>-0.021651</td>\n",
       "      <td>0.073417</td>\n",
       "      <td>-0.001366</td>\n",
       "      <td>0.046013</td>\n",
       "      <td>-0.006245</td>\n",
       "      <td>...</td>\n",
       "      <td>-0.031333</td>\n",
       "      <td>-0.035038</td>\n",
       "      <td>-0.029181</td>\n",
       "      <td>0.064026</td>\n",
       "      <td>0.015889</td>\n",
       "      <td>-0.123694</td>\n",
       "      <td>-0.026889</td>\n",
       "      <td>-0.084278</td>\n",
       "      <td>0.070923</td>\n",
       "      <td>-0.042490</td>\n",
       "    </tr>\n",
       "    <tr>\n",
       "      <th>cap-surface</th>\n",
       "      <td>0.176899</td>\n",
       "      <td>-0.050507</td>\n",
       "      <td>1.000000</td>\n",
       "      <td>-0.023641</td>\n",
       "      <td>0.066776</td>\n",
       "      <td>0.051636</td>\n",
       "      <td>-0.033450</td>\n",
       "      <td>-0.274616</td>\n",
       "      <td>0.207781</td>\n",
       "      <td>-0.167356</td>\n",
       "      <td>...</td>\n",
       "      <td>0.099681</td>\n",
       "      <td>0.070571</td>\n",
       "      <td>0.063991</td>\n",
       "      <td>-0.013444</td>\n",
       "      <td>-0.010072</td>\n",
       "      <td>-0.023283</td>\n",
       "      <td>-0.113144</td>\n",
       "      <td>0.231465</td>\n",
       "      <td>0.012944</td>\n",
       "      <td>0.158039</td>\n",
       "    </tr>\n",
       "    <tr>\n",
       "      <th>cap-color</th>\n",
       "      <td>-0.018315</td>\n",
       "      <td>-0.049525</td>\n",
       "      <td>-0.023641</td>\n",
       "      <td>1.000000</td>\n",
       "      <td>-0.011004</td>\n",
       "      <td>-0.384536</td>\n",
       "      <td>0.041425</td>\n",
       "      <td>0.149580</td>\n",
       "      <td>-0.164310</td>\n",
       "      <td>0.079571</td>\n",
       "      <td>...</td>\n",
       "      <td>-0.061882</td>\n",
       "      <td>-0.000779</td>\n",
       "      <td>-0.004182</td>\n",
       "      <td>0.037910</td>\n",
       "      <td>0.003412</td>\n",
       "      <td>0.000711</td>\n",
       "      <td>0.153141</td>\n",
       "      <td>-0.284759</td>\n",
       "      <td>-0.153048</td>\n",
       "      <td>0.038552</td>\n",
       "    </tr>\n",
       "    <tr>\n",
       "      <th>bruises</th>\n",
       "      <td>-0.502157</td>\n",
       "      <td>-0.028575</td>\n",
       "      <td>0.066776</td>\n",
       "      <td>-0.011004</td>\n",
       "      <td>1.000000</td>\n",
       "      <td>-0.055836</td>\n",
       "      <td>0.132196</td>\n",
       "      <td>-0.299498</td>\n",
       "      <td>-0.365449</td>\n",
       "      <td>0.526684</td>\n",
       "      <td>...</td>\n",
       "      <td>0.459844</td>\n",
       "      <td>0.071998</td>\n",
       "      <td>0.088409</td>\n",
       "      <td>0.113148</td>\n",
       "      <td>-0.012115</td>\n",
       "      <td>0.049784</td>\n",
       "      <td>0.693615</td>\n",
       "      <td>-0.284631</td>\n",
       "      <td>0.082524</td>\n",
       "      <td>-0.078090</td>\n",
       "    </tr>\n",
       "    <tr>\n",
       "      <th>odor</th>\n",
       "      <td>-0.091765</td>\n",
       "      <td>-0.021651</td>\n",
       "      <td>0.051636</td>\n",
       "      <td>-0.384536</td>\n",
       "      <td>-0.055836</td>\n",
       "      <td>1.000000</td>\n",
       "      <td>-0.054703</td>\n",
       "      <td>0.065724</td>\n",
       "      <td>0.319945</td>\n",
       "      <td>-0.128353</td>\n",
       "      <td>...</td>\n",
       "      <td>0.074021</td>\n",
       "      <td>0.175100</td>\n",
       "      <td>0.178315</td>\n",
       "      <td>-0.052985</td>\n",
       "      <td>0.010299</td>\n",
       "      <td>0.112166</td>\n",
       "      <td>-0.277452</td>\n",
       "      <td>0.473380</td>\n",
       "      <td>-0.047982</td>\n",
       "      <td>-0.033562</td>\n",
       "    </tr>\n",
       "    <tr>\n",
       "      <th>gill-attachment</th>\n",
       "      <td>0.119715</td>\n",
       "      <td>0.073417</td>\n",
       "      <td>-0.033450</td>\n",
       "      <td>0.041425</td>\n",
       "      <td>0.132196</td>\n",
       "      <td>-0.054703</td>\n",
       "      <td>1.000000</td>\n",
       "      <td>0.068124</td>\n",
       "      <td>0.103890</td>\n",
       "      <td>-0.124812</td>\n",
       "      <td>...</td>\n",
       "      <td>-0.112935</td>\n",
       "      <td>0.097695</td>\n",
       "      <td>0.093831</td>\n",
       "      <td>0.894226</td>\n",
       "      <td>0.016178</td>\n",
       "      <td>0.095721</td>\n",
       "      <td>-0.138358</td>\n",
       "      <td>-0.029423</td>\n",
       "      <td>0.169458</td>\n",
       "      <td>-0.027452</td>\n",
       "    </tr>\n",
       "    <tr>\n",
       "      <th>gill-spacing</th>\n",
       "      <td>-0.348396</td>\n",
       "      <td>-0.001366</td>\n",
       "      <td>-0.274616</td>\n",
       "      <td>0.149580</td>\n",
       "      <td>-0.299498</td>\n",
       "      <td>0.065724</td>\n",
       "      <td>0.068124</td>\n",
       "      <td>1.000000</td>\n",
       "      <td>-0.105925</td>\n",
       "      <td>0.103402</td>\n",
       "      <td>...</td>\n",
       "      <td>-0.205091</td>\n",
       "      <td>0.276282</td>\n",
       "      <td>0.253343</td>\n",
       "      <td>0.074113</td>\n",
       "      <td>0.002415</td>\n",
       "      <td>0.251853</td>\n",
       "      <td>-0.189465</td>\n",
       "      <td>0.060826</td>\n",
       "      <td>-0.527422</td>\n",
       "      <td>-0.149350</td>\n",
       "    </tr>\n",
       "    <tr>\n",
       "      <th>gill-size</th>\n",
       "      <td>0.539296</td>\n",
       "      <td>0.046013</td>\n",
       "      <td>0.207781</td>\n",
       "      <td>-0.164310</td>\n",
       "      <td>-0.365449</td>\n",
       "      <td>0.319945</td>\n",
       "      <td>0.103890</td>\n",
       "      <td>-0.105925</td>\n",
       "      <td>1.000000</td>\n",
       "      <td>-0.515428</td>\n",
       "      <td>...</td>\n",
       "      <td>0.013449</td>\n",
       "      <td>0.300321</td>\n",
       "      <td>0.284636</td>\n",
       "      <td>0.101500</td>\n",
       "      <td>0.017982</td>\n",
       "      <td>-0.175917</td>\n",
       "      <td>-0.460385</td>\n",
       "      <td>0.619809</td>\n",
       "      <td>0.136891</td>\n",
       "      <td>0.160517</td>\n",
       "    </tr>\n",
       "    <tr>\n",
       "      <th>gill-color</th>\n",
       "      <td>-0.531714</td>\n",
       "      <td>-0.006245</td>\n",
       "      <td>-0.167356</td>\n",
       "      <td>0.079571</td>\n",
       "      <td>0.526684</td>\n",
       "      <td>-0.128353</td>\n",
       "      <td>-0.124812</td>\n",
       "      <td>0.103402</td>\n",
       "      <td>-0.515428</td>\n",
       "      <td>1.000000</td>\n",
       "      <td>...</td>\n",
       "      <td>0.261116</td>\n",
       "      <td>-0.064780</td>\n",
       "      <td>-0.080552</td>\n",
       "      <td>-0.092610</td>\n",
       "      <td>-0.008161</td>\n",
       "      <td>0.097492</td>\n",
       "      <td>0.624766</td>\n",
       "      <td>-0.408625</td>\n",
       "      <td>-0.033504</td>\n",
       "      <td>-0.206406</td>\n",
       "    </tr>\n",
       "    <tr>\n",
       "      <th>stalk-shape</th>\n",
       "      <td>-0.110221</td>\n",
       "      <td>0.065408</td>\n",
       "      <td>-0.012494</td>\n",
       "      <td>-0.455951</td>\n",
       "      <td>0.104269</td>\n",
       "      <td>0.458874</td>\n",
       "      <td>0.177779</td>\n",
       "      <td>0.070504</td>\n",
       "      <td>0.208756</td>\n",
       "      <td>-0.168804</td>\n",
       "      <td>...</td>\n",
       "      <td>-0.028039</td>\n",
       "      <td>0.211080</td>\n",
       "      <td>0.231645</td>\n",
       "      <td>0.152162</td>\n",
       "      <td>-0.003429</td>\n",
       "      <td>-0.301034</td>\n",
       "      <td>-0.279894</td>\n",
       "      <td>0.250459</td>\n",
       "      <td>0.095751</td>\n",
       "      <td>-0.279075</td>\n",
       "    </tr>\n",
       "    <tr>\n",
       "      <th>stalk-root</th>\n",
       "      <td>-0.369834</td>\n",
       "      <td>0.041449</td>\n",
       "      <td>-0.124124</td>\n",
       "      <td>0.310565</td>\n",
       "      <td>0.244906</td>\n",
       "      <td>-0.205695</td>\n",
       "      <td>0.134268</td>\n",
       "      <td>0.338643</td>\n",
       "      <td>-0.333757</td>\n",
       "      <td>0.311865</td>\n",
       "      <td>...</td>\n",
       "      <td>0.092642</td>\n",
       "      <td>0.155717</td>\n",
       "      <td>0.155296</td>\n",
       "      <td>0.150332</td>\n",
       "      <td>-0.010208</td>\n",
       "      <td>-0.253244</td>\n",
       "      <td>0.215478</td>\n",
       "      <td>-0.537253</td>\n",
       "      <td>-0.293876</td>\n",
       "      <td>-0.001954</td>\n",
       "    </tr>\n",
       "    <tr>\n",
       "      <th>radius</th>\n",
       "      <td>0.051789</td>\n",
       "      <td>-0.028290</td>\n",
       "      <td>0.010855</td>\n",
       "      <td>-0.041630</td>\n",
       "      <td>-0.041373</td>\n",
       "      <td>0.028405</td>\n",
       "      <td>-0.045920</td>\n",
       "      <td>-0.028612</td>\n",
       "      <td>0.032306</td>\n",
       "      <td>-0.027378</td>\n",
       "      <td>...</td>\n",
       "      <td>-0.005321</td>\n",
       "      <td>-0.005473</td>\n",
       "      <td>-0.002165</td>\n",
       "      <td>-0.043784</td>\n",
       "      <td>-0.012035</td>\n",
       "      <td>0.039873</td>\n",
       "      <td>-0.009220</td>\n",
       "      <td>0.064613</td>\n",
       "      <td>0.020701</td>\n",
       "      <td>-0.007853</td>\n",
       "    </tr>\n",
       "    <tr>\n",
       "      <th>stalk-surface-above-ring</th>\n",
       "      <td>-0.339821</td>\n",
       "      <td>-0.029756</td>\n",
       "      <td>0.082593</td>\n",
       "      <td>-0.061341</td>\n",
       "      <td>0.461709</td>\n",
       "      <td>0.127045</td>\n",
       "      <td>-0.081394</td>\n",
       "      <td>-0.201880</td>\n",
       "      <td>0.055582</td>\n",
       "      <td>0.225269</td>\n",
       "      <td>...</td>\n",
       "      <td>0.449648</td>\n",
       "      <td>0.126256</td>\n",
       "      <td>0.142680</td>\n",
       "      <td>-0.081088</td>\n",
       "      <td>-0.008688</td>\n",
       "      <td>0.112936</td>\n",
       "      <td>0.387105</td>\n",
       "      <td>0.105613</td>\n",
       "      <td>0.063334</td>\n",
       "      <td>-0.062134</td>\n",
       "    </tr>\n",
       "    <tr>\n",
       "      <th>stalk-surface-below-ring</th>\n",
       "      <td>-0.303188</td>\n",
       "      <td>-0.031333</td>\n",
       "      <td>0.099681</td>\n",
       "      <td>-0.061882</td>\n",
       "      <td>0.459844</td>\n",
       "      <td>0.074021</td>\n",
       "      <td>-0.112935</td>\n",
       "      <td>-0.205091</td>\n",
       "      <td>0.013449</td>\n",
       "      <td>0.261116</td>\n",
       "      <td>...</td>\n",
       "      <td>1.000000</td>\n",
       "      <td>0.105551</td>\n",
       "      <td>0.115474</td>\n",
       "      <td>-0.068845</td>\n",
       "      <td>-0.000746</td>\n",
       "      <td>0.043879</td>\n",
       "      <td>0.388803</td>\n",
       "      <td>0.135361</td>\n",
       "      <td>0.044961</td>\n",
       "      <td>-0.040286</td>\n",
       "    </tr>\n",
       "    <tr>\n",
       "      <th>stalk-color-above-ring</th>\n",
       "      <td>-0.141789</td>\n",
       "      <td>-0.035038</td>\n",
       "      <td>0.070571</td>\n",
       "      <td>-0.000779</td>\n",
       "      <td>0.071998</td>\n",
       "      <td>0.175100</td>\n",
       "      <td>0.097695</td>\n",
       "      <td>0.276282</td>\n",
       "      <td>0.300321</td>\n",
       "      <td>-0.064780</td>\n",
       "      <td>...</td>\n",
       "      <td>0.105551</td>\n",
       "      <td>1.000000</td>\n",
       "      <td>0.486988</td>\n",
       "      <td>0.065675</td>\n",
       "      <td>-0.007530</td>\n",
       "      <td>0.082174</td>\n",
       "      <td>-0.051963</td>\n",
       "      <td>0.274344</td>\n",
       "      <td>-0.243679</td>\n",
       "      <td>0.037111</td>\n",
       "    </tr>\n",
       "    <tr>\n",
       "      <th>stalk-color-below-ring</th>\n",
       "      <td>-0.140983</td>\n",
       "      <td>-0.029181</td>\n",
       "      <td>0.063991</td>\n",
       "      <td>-0.004182</td>\n",
       "      <td>0.088409</td>\n",
       "      <td>0.178315</td>\n",
       "      <td>0.093831</td>\n",
       "      <td>0.253343</td>\n",
       "      <td>0.284636</td>\n",
       "      <td>-0.080552</td>\n",
       "      <td>...</td>\n",
       "      <td>0.115474</td>\n",
       "      <td>0.486988</td>\n",
       "      <td>1.000000</td>\n",
       "      <td>0.062622</td>\n",
       "      <td>0.006526</td>\n",
       "      <td>0.086855</td>\n",
       "      <td>-0.036122</td>\n",
       "      <td>0.264653</td>\n",
       "      <td>-0.246101</td>\n",
       "      <td>0.043063</td>\n",
       "    </tr>\n",
       "    <tr>\n",
       "      <th>veil-color</th>\n",
       "      <td>0.139915</td>\n",
       "      <td>0.064026</td>\n",
       "      <td>-0.013444</td>\n",
       "      <td>0.037910</td>\n",
       "      <td>0.113148</td>\n",
       "      <td>-0.052985</td>\n",
       "      <td>0.894226</td>\n",
       "      <td>0.074113</td>\n",
       "      <td>0.101500</td>\n",
       "      <td>-0.092610</td>\n",
       "      <td>...</td>\n",
       "      <td>-0.068845</td>\n",
       "      <td>0.065675</td>\n",
       "      <td>0.062622</td>\n",
       "      <td>1.000000</td>\n",
       "      <td>0.021633</td>\n",
       "      <td>0.034980</td>\n",
       "      <td>-0.138507</td>\n",
       "      <td>-0.001120</td>\n",
       "      <td>0.122618</td>\n",
       "      <td>-0.038456</td>\n",
       "    </tr>\n",
       "    <tr>\n",
       "      <th>weight</th>\n",
       "      <td>0.007413</td>\n",
       "      <td>0.015889</td>\n",
       "      <td>-0.010072</td>\n",
       "      <td>0.003412</td>\n",
       "      <td>-0.012115</td>\n",
       "      <td>0.010299</td>\n",
       "      <td>0.016178</td>\n",
       "      <td>0.002415</td>\n",
       "      <td>0.017982</td>\n",
       "      <td>-0.008161</td>\n",
       "      <td>...</td>\n",
       "      <td>-0.000746</td>\n",
       "      <td>-0.007530</td>\n",
       "      <td>0.006526</td>\n",
       "      <td>0.021633</td>\n",
       "      <td>1.000000</td>\n",
       "      <td>0.003295</td>\n",
       "      <td>-0.015677</td>\n",
       "      <td>0.017430</td>\n",
       "      <td>-0.005830</td>\n",
       "      <td>-0.010433</td>\n",
       "    </tr>\n",
       "    <tr>\n",
       "      <th>ring-number</th>\n",
       "      <td>-0.217923</td>\n",
       "      <td>-0.123694</td>\n",
       "      <td>-0.023283</td>\n",
       "      <td>0.000711</td>\n",
       "      <td>0.049784</td>\n",
       "      <td>0.112166</td>\n",
       "      <td>0.095721</td>\n",
       "      <td>0.251853</td>\n",
       "      <td>-0.175917</td>\n",
       "      <td>0.097492</td>\n",
       "      <td>...</td>\n",
       "      <td>0.043879</td>\n",
       "      <td>0.082174</td>\n",
       "      <td>0.086855</td>\n",
       "      <td>0.034980</td>\n",
       "      <td>0.003295</td>\n",
       "      <td>1.000000</td>\n",
       "      <td>0.059275</td>\n",
       "      <td>0.346438</td>\n",
       "      <td>-0.257959</td>\n",
       "      <td>0.235298</td>\n",
       "    </tr>\n",
       "    <tr>\n",
       "      <th>ring-type</th>\n",
       "      <td>-0.413472</td>\n",
       "      <td>-0.026889</td>\n",
       "      <td>-0.113144</td>\n",
       "      <td>0.153141</td>\n",
       "      <td>0.693615</td>\n",
       "      <td>-0.277452</td>\n",
       "      <td>-0.138358</td>\n",
       "      <td>-0.189465</td>\n",
       "      <td>-0.460385</td>\n",
       "      <td>0.624766</td>\n",
       "      <td>...</td>\n",
       "      <td>0.388803</td>\n",
       "      <td>-0.051963</td>\n",
       "      <td>-0.036122</td>\n",
       "      <td>-0.138507</td>\n",
       "      <td>-0.015677</td>\n",
       "      <td>0.059275</td>\n",
       "      <td>1.000000</td>\n",
       "      <td>-0.485422</td>\n",
       "      <td>0.210241</td>\n",
       "      <td>-0.216270</td>\n",
       "    </tr>\n",
       "    <tr>\n",
       "      <th>spore-print-color</th>\n",
       "      <td>0.164303</td>\n",
       "      <td>-0.084278</td>\n",
       "      <td>0.231465</td>\n",
       "      <td>-0.284759</td>\n",
       "      <td>-0.284631</td>\n",
       "      <td>0.473380</td>\n",
       "      <td>-0.029423</td>\n",
       "      <td>0.060826</td>\n",
       "      <td>0.619809</td>\n",
       "      <td>-0.408625</td>\n",
       "      <td>...</td>\n",
       "      <td>0.135361</td>\n",
       "      <td>0.274344</td>\n",
       "      <td>0.264653</td>\n",
       "      <td>-0.001120</td>\n",
       "      <td>0.017430</td>\n",
       "      <td>0.346438</td>\n",
       "      <td>-0.485422</td>\n",
       "      <td>1.000000</td>\n",
       "      <td>-0.143215</td>\n",
       "      <td>0.181948</td>\n",
       "    </tr>\n",
       "    <tr>\n",
       "      <th>population</th>\n",
       "      <td>0.292035</td>\n",
       "      <td>0.070923</td>\n",
       "      <td>0.012944</td>\n",
       "      <td>-0.153048</td>\n",
       "      <td>0.082524</td>\n",
       "      <td>-0.047982</td>\n",
       "      <td>0.169458</td>\n",
       "      <td>-0.527422</td>\n",
       "      <td>0.136891</td>\n",
       "      <td>-0.033504</td>\n",
       "      <td>...</td>\n",
       "      <td>0.044961</td>\n",
       "      <td>-0.243679</td>\n",
       "      <td>-0.246101</td>\n",
       "      <td>0.122618</td>\n",
       "      <td>-0.005830</td>\n",
       "      <td>-0.257959</td>\n",
       "      <td>0.210241</td>\n",
       "      <td>-0.143215</td>\n",
       "      <td>1.000000</td>\n",
       "      <td>-0.183001</td>\n",
       "    </tr>\n",
       "    <tr>\n",
       "      <th>habitat</th>\n",
       "      <td>0.216358</td>\n",
       "      <td>-0.042490</td>\n",
       "      <td>0.158039</td>\n",
       "      <td>0.038552</td>\n",
       "      <td>-0.078090</td>\n",
       "      <td>-0.033562</td>\n",
       "      <td>-0.027452</td>\n",
       "      <td>-0.149350</td>\n",
       "      <td>0.160517</td>\n",
       "      <td>-0.206406</td>\n",
       "      <td>...</td>\n",
       "      <td>-0.040286</td>\n",
       "      <td>0.037111</td>\n",
       "      <td>0.043063</td>\n",
       "      <td>-0.038456</td>\n",
       "      <td>-0.010433</td>\n",
       "      <td>0.235298</td>\n",
       "      <td>-0.216270</td>\n",
       "      <td>0.181948</td>\n",
       "      <td>-0.183001</td>\n",
       "      <td>1.000000</td>\n",
       "    </tr>\n",
       "  </tbody>\n",
       "</table>\n",
       "<p>24 rows × 24 columns</p>\n",
       "</div>"
      ],
      "text/plain": [
       "                             class  cap-shape  cap-surface  cap-color  \\\n",
       "class                     1.000000   0.042155     0.176899  -0.018315   \n",
       "cap-shape                 0.042155   1.000000    -0.050507  -0.049525   \n",
       "cap-surface               0.176899  -0.050507     1.000000  -0.023641   \n",
       "cap-color                -0.018315  -0.049525    -0.023641   1.000000   \n",
       "bruises                  -0.502157  -0.028575     0.066776  -0.011004   \n",
       "odor                     -0.091765  -0.021651     0.051636  -0.384536   \n",
       "gill-attachment           0.119715   0.073417    -0.033450   0.041425   \n",
       "gill-spacing             -0.348396  -0.001366    -0.274616   0.149580   \n",
       "gill-size                 0.539296   0.046013     0.207781  -0.164310   \n",
       "gill-color               -0.531714  -0.006245    -0.167356   0.079571   \n",
       "stalk-shape              -0.110221   0.065408    -0.012494  -0.455951   \n",
       "stalk-root               -0.369834   0.041449    -0.124124   0.310565   \n",
       "radius                    0.051789  -0.028290     0.010855  -0.041630   \n",
       "stalk-surface-above-ring -0.339821  -0.029756     0.082593  -0.061341   \n",
       "stalk-surface-below-ring -0.303188  -0.031333     0.099681  -0.061882   \n",
       "stalk-color-above-ring   -0.141789  -0.035038     0.070571  -0.000779   \n",
       "stalk-color-below-ring   -0.140983  -0.029181     0.063991  -0.004182   \n",
       "veil-color                0.139915   0.064026    -0.013444   0.037910   \n",
       "weight                    0.007413   0.015889    -0.010072   0.003412   \n",
       "ring-number              -0.217923  -0.123694    -0.023283   0.000711   \n",
       "ring-type                -0.413472  -0.026889    -0.113144   0.153141   \n",
       "spore-print-color         0.164303  -0.084278     0.231465  -0.284759   \n",
       "population                0.292035   0.070923     0.012944  -0.153048   \n",
       "habitat                   0.216358  -0.042490     0.158039   0.038552   \n",
       "\n",
       "                           bruises      odor  gill-attachment  gill-spacing  \\\n",
       "class                    -0.502157 -0.091765         0.119715     -0.348396   \n",
       "cap-shape                -0.028575 -0.021651         0.073417     -0.001366   \n",
       "cap-surface               0.066776  0.051636        -0.033450     -0.274616   \n",
       "cap-color                -0.011004 -0.384536         0.041425      0.149580   \n",
       "bruises                   1.000000 -0.055836         0.132196     -0.299498   \n",
       "odor                     -0.055836  1.000000        -0.054703      0.065724   \n",
       "gill-attachment           0.132196 -0.054703         1.000000      0.068124   \n",
       "gill-spacing             -0.299498  0.065724         0.068124      1.000000   \n",
       "gill-size                -0.365449  0.319945         0.103890     -0.105925   \n",
       "gill-color                0.526684 -0.128353        -0.124812      0.103402   \n",
       "stalk-shape               0.104269  0.458874         0.177779      0.070504   \n",
       "stalk-root                0.244906 -0.205695         0.134268      0.338643   \n",
       "radius                   -0.041373  0.028405        -0.045920     -0.028612   \n",
       "stalk-surface-above-ring  0.461709  0.127045        -0.081394     -0.201880   \n",
       "stalk-surface-below-ring  0.459844  0.074021        -0.112935     -0.205091   \n",
       "stalk-color-above-ring    0.071998  0.175100         0.097695      0.276282   \n",
       "stalk-color-below-ring    0.088409  0.178315         0.093831      0.253343   \n",
       "veil-color                0.113148 -0.052985         0.894226      0.074113   \n",
       "weight                   -0.012115  0.010299         0.016178      0.002415   \n",
       "ring-number               0.049784  0.112166         0.095721      0.251853   \n",
       "ring-type                 0.693615 -0.277452        -0.138358     -0.189465   \n",
       "spore-print-color        -0.284631  0.473380        -0.029423      0.060826   \n",
       "population                0.082524 -0.047982         0.169458     -0.527422   \n",
       "habitat                  -0.078090 -0.033562        -0.027452     -0.149350   \n",
       "\n",
       "                          gill-size  gill-color    ...     \\\n",
       "class                      0.539296   -0.531714    ...      \n",
       "cap-shape                  0.046013   -0.006245    ...      \n",
       "cap-surface                0.207781   -0.167356    ...      \n",
       "cap-color                 -0.164310    0.079571    ...      \n",
       "bruises                   -0.365449    0.526684    ...      \n",
       "odor                       0.319945   -0.128353    ...      \n",
       "gill-attachment            0.103890   -0.124812    ...      \n",
       "gill-spacing              -0.105925    0.103402    ...      \n",
       "gill-size                  1.000000   -0.515428    ...      \n",
       "gill-color                -0.515428    1.000000    ...      \n",
       "stalk-shape                0.208756   -0.168804    ...      \n",
       "stalk-root                -0.333757    0.311865    ...      \n",
       "radius                     0.032306   -0.027378    ...      \n",
       "stalk-surface-above-ring   0.055582    0.225269    ...      \n",
       "stalk-surface-below-ring   0.013449    0.261116    ...      \n",
       "stalk-color-above-ring     0.300321   -0.064780    ...      \n",
       "stalk-color-below-ring     0.284636   -0.080552    ...      \n",
       "veil-color                 0.101500   -0.092610    ...      \n",
       "weight                     0.017982   -0.008161    ...      \n",
       "ring-number               -0.175917    0.097492    ...      \n",
       "ring-type                 -0.460385    0.624766    ...      \n",
       "spore-print-color          0.619809   -0.408625    ...      \n",
       "population                 0.136891   -0.033504    ...      \n",
       "habitat                    0.160517   -0.206406    ...      \n",
       "\n",
       "                          stalk-surface-below-ring  stalk-color-above-ring  \\\n",
       "class                                    -0.303188               -0.141789   \n",
       "cap-shape                                -0.031333               -0.035038   \n",
       "cap-surface                               0.099681                0.070571   \n",
       "cap-color                                -0.061882               -0.000779   \n",
       "bruises                                   0.459844                0.071998   \n",
       "odor                                      0.074021                0.175100   \n",
       "gill-attachment                          -0.112935                0.097695   \n",
       "gill-spacing                             -0.205091                0.276282   \n",
       "gill-size                                 0.013449                0.300321   \n",
       "gill-color                                0.261116               -0.064780   \n",
       "stalk-shape                              -0.028039                0.211080   \n",
       "stalk-root                                0.092642                0.155717   \n",
       "radius                                   -0.005321               -0.005473   \n",
       "stalk-surface-above-ring                  0.449648                0.126256   \n",
       "stalk-surface-below-ring                  1.000000                0.105551   \n",
       "stalk-color-above-ring                    0.105551                1.000000   \n",
       "stalk-color-below-ring                    0.115474                0.486988   \n",
       "veil-color                               -0.068845                0.065675   \n",
       "weight                                   -0.000746               -0.007530   \n",
       "ring-number                               0.043879                0.082174   \n",
       "ring-type                                 0.388803               -0.051963   \n",
       "spore-print-color                         0.135361                0.274344   \n",
       "population                                0.044961               -0.243679   \n",
       "habitat                                  -0.040286                0.037111   \n",
       "\n",
       "                          stalk-color-below-ring  veil-color    weight  \\\n",
       "class                                  -0.140983    0.139915  0.007413   \n",
       "cap-shape                              -0.029181    0.064026  0.015889   \n",
       "cap-surface                             0.063991   -0.013444 -0.010072   \n",
       "cap-color                              -0.004182    0.037910  0.003412   \n",
       "bruises                                 0.088409    0.113148 -0.012115   \n",
       "odor                                    0.178315   -0.052985  0.010299   \n",
       "gill-attachment                         0.093831    0.894226  0.016178   \n",
       "gill-spacing                            0.253343    0.074113  0.002415   \n",
       "gill-size                               0.284636    0.101500  0.017982   \n",
       "gill-color                             -0.080552   -0.092610 -0.008161   \n",
       "stalk-shape                             0.231645    0.152162 -0.003429   \n",
       "stalk-root                              0.155296    0.150332 -0.010208   \n",
       "radius                                 -0.002165   -0.043784 -0.012035   \n",
       "stalk-surface-above-ring                0.142680   -0.081088 -0.008688   \n",
       "stalk-surface-below-ring                0.115474   -0.068845 -0.000746   \n",
       "stalk-color-above-ring                  0.486988    0.065675 -0.007530   \n",
       "stalk-color-below-ring                  1.000000    0.062622  0.006526   \n",
       "veil-color                              0.062622    1.000000  0.021633   \n",
       "weight                                  0.006526    0.021633  1.000000   \n",
       "ring-number                             0.086855    0.034980  0.003295   \n",
       "ring-type                              -0.036122   -0.138507 -0.015677   \n",
       "spore-print-color                       0.264653   -0.001120  0.017430   \n",
       "population                             -0.246101    0.122618 -0.005830   \n",
       "habitat                                 0.043063   -0.038456 -0.010433   \n",
       "\n",
       "                          ring-number  ring-type  spore-print-color  \\\n",
       "class                       -0.217923  -0.413472           0.164303   \n",
       "cap-shape                   -0.123694  -0.026889          -0.084278   \n",
       "cap-surface                 -0.023283  -0.113144           0.231465   \n",
       "cap-color                    0.000711   0.153141          -0.284759   \n",
       "bruises                      0.049784   0.693615          -0.284631   \n",
       "odor                         0.112166  -0.277452           0.473380   \n",
       "gill-attachment              0.095721  -0.138358          -0.029423   \n",
       "gill-spacing                 0.251853  -0.189465           0.060826   \n",
       "gill-size                   -0.175917  -0.460385           0.619809   \n",
       "gill-color                   0.097492   0.624766          -0.408625   \n",
       "stalk-shape                 -0.301034  -0.279894           0.250459   \n",
       "stalk-root                  -0.253244   0.215478          -0.537253   \n",
       "radius                       0.039873  -0.009220           0.064613   \n",
       "stalk-surface-above-ring     0.112936   0.387105           0.105613   \n",
       "stalk-surface-below-ring     0.043879   0.388803           0.135361   \n",
       "stalk-color-above-ring       0.082174  -0.051963           0.274344   \n",
       "stalk-color-below-ring       0.086855  -0.036122           0.264653   \n",
       "veil-color                   0.034980  -0.138507          -0.001120   \n",
       "weight                       0.003295  -0.015677           0.017430   \n",
       "ring-number                  1.000000   0.059275           0.346438   \n",
       "ring-type                    0.059275   1.000000          -0.485422   \n",
       "spore-print-color            0.346438  -0.485422           1.000000   \n",
       "population                  -0.257959   0.210241          -0.143215   \n",
       "habitat                      0.235298  -0.216270           0.181948   \n",
       "\n",
       "                          population   habitat  \n",
       "class                       0.292035  0.216358  \n",
       "cap-shape                   0.070923 -0.042490  \n",
       "cap-surface                 0.012944  0.158039  \n",
       "cap-color                  -0.153048  0.038552  \n",
       "bruises                     0.082524 -0.078090  \n",
       "odor                       -0.047982 -0.033562  \n",
       "gill-attachment             0.169458 -0.027452  \n",
       "gill-spacing               -0.527422 -0.149350  \n",
       "gill-size                   0.136891  0.160517  \n",
       "gill-color                 -0.033504 -0.206406  \n",
       "stalk-shape                 0.095751 -0.279075  \n",
       "stalk-root                 -0.293876 -0.001954  \n",
       "radius                      0.020701 -0.007853  \n",
       "stalk-surface-above-ring    0.063334 -0.062134  \n",
       "stalk-surface-below-ring    0.044961 -0.040286  \n",
       "stalk-color-above-ring     -0.243679  0.037111  \n",
       "stalk-color-below-ring     -0.246101  0.043063  \n",
       "veil-color                  0.122618 -0.038456  \n",
       "weight                     -0.005830 -0.010433  \n",
       "ring-number                -0.257959  0.235298  \n",
       "ring-type                   0.210241 -0.216270  \n",
       "spore-print-color          -0.143215  0.181948  \n",
       "population                  1.000000 -0.183001  \n",
       "habitat                    -0.183001  1.000000  \n",
       "\n",
       "[24 rows x 24 columns]"
      ]
     },
     "execution_count": 18,
     "metadata": {},
     "output_type": "execute_result"
    }
   ],
   "source": [
    "train_db.corr()"
   ]
  },
  {
   "cell_type": "markdown",
   "metadata": {},
   "source": [
    "#### HeatMap of cprrelation "
   ]
  },
  {
   "cell_type": "code",
   "execution_count": 19,
   "metadata": {},
   "outputs": [
    {
     "data": {
      "image/png": "[encoded data removed]",
      "text/plain": [
       "<matplotlib.figure.Figure at 0x7f6ab351d090>"
      ]
     },
     "metadata": {},
     "output_type": "display_data"
    }
   ],
   "source": [
    "plt.figure(figsize=(12,10))\n",
    "sns.heatmap(train_db.corr(), alpha=0.7)\n",
    "plt.show()"
   ]
  },
  {
   "cell_type": "markdown",
   "metadata": {},
   "source": [
    "    here the correlation between the viel-color and gill-attachment is very high i.e between 0.8-0.9.\n",
    "    Correlated features do not affect classification accuracy per se. The problem in realistic situations is that we have a finite number of training examples with which to train a classifier. For a fixed number of training examples, increasing the number of features typically increases classification accuracy to a point but as the number of features continue to increase, classification accuracy will eventually decrease because we are then undersampled relative to the large number of features. here the features are not so much that we should apply dimensionality reduction using PCA or MDS"
   ]
  },
  {
   "cell_type": "code",
   "execution_count": 20,
   "metadata": {},
   "outputs": [
    {
     "data": {
      "text/html": [
       "<div>\n",
       "<style>\n",
       "    .dataframe thead tr:only-child th {\n",
       "        text-align: right;\n",
       "    }\n",
       "\n",
       "    .dataframe thead th {\n",
       "        text-align: left;\n",
       "    }\n",
       "\n",
       "    .dataframe tbody tr th {\n",
       "        vertical-align: top;\n",
       "    }\n",
       "</style>\n",
       "<table border=\"1\" class=\"dataframe\">\n",
       "  <thead>\n",
       "    <tr style=\"text-align: right;\">\n",
       "      <th></th>\n",
       "      <th>veil-color</th>\n",
       "      <th>gill-attachment</th>\n",
       "    </tr>\n",
       "  </thead>\n",
       "  <tbody>\n",
       "    <tr>\n",
       "      <th>veil-color</th>\n",
       "      <td>1.000000</td>\n",
       "      <td>0.894226</td>\n",
       "    </tr>\n",
       "    <tr>\n",
       "      <th>gill-attachment</th>\n",
       "      <td>0.894226</td>\n",
       "      <td>1.000000</td>\n",
       "    </tr>\n",
       "  </tbody>\n",
       "</table>\n",
       "</div>"
      ],
      "text/plain": [
       "                 veil-color  gill-attachment\n",
       "veil-color         1.000000         0.894226\n",
       "gill-attachment    0.894226         1.000000"
      ]
     },
     "execution_count": 20,
     "metadata": {},
     "output_type": "execute_result"
    }
   ],
   "source": [
    "train_db[['veil-color', 'gill-attachment']].corr()"
   ]
  },
  {
   "cell_type": "markdown",
   "metadata": {},
   "source": [
    "    Tabulating and plotting the percentage of poisonous of each type of cap-shape  i.e. average of each variable in each feature beacuse 1 is encoded as poisonous"
   ]
  },
  {
   "cell_type": "code",
   "execution_count": 21,
   "metadata": {},
   "outputs": [
    {
     "data": {
      "text/html": [
       "<div>\n",
       "<style>\n",
       "    .dataframe thead tr:only-child th {\n",
       "        text-align: right;\n",
       "    }\n",
       "\n",
       "    .dataframe thead th {\n",
       "        text-align: left;\n",
       "    }\n",
       "\n",
       "    .dataframe tbody tr th {\n",
       "        vertical-align: top;\n",
       "    }\n",
       "</style>\n",
       "<table border=\"1\" class=\"dataframe\">\n",
       "  <thead>\n",
       "    <tr style=\"text-align: right;\">\n",
       "      <th></th>\n",
       "      <th>cap-shape</th>\n",
       "      <th>class</th>\n",
       "    </tr>\n",
       "  </thead>\n",
       "  <tbody>\n",
       "    <tr>\n",
       "      <th>0</th>\n",
       "      <td>0</td>\n",
       "      <td>0.108974</td>\n",
       "    </tr>\n",
       "    <tr>\n",
       "      <th>1</th>\n",
       "      <td>1</td>\n",
       "      <td>1.000000</td>\n",
       "    </tr>\n",
       "    <tr>\n",
       "      <th>2</th>\n",
       "      <td>2</td>\n",
       "      <td>0.497935</td>\n",
       "    </tr>\n",
       "    <tr>\n",
       "      <th>3</th>\n",
       "      <td>3</td>\n",
       "      <td>0.727119</td>\n",
       "    </tr>\n",
       "    <tr>\n",
       "      <th>4</th>\n",
       "      <td>4</td>\n",
       "      <td>0.000000</td>\n",
       "    </tr>\n",
       "    <tr>\n",
       "      <th>5</th>\n",
       "      <td>5</td>\n",
       "      <td>0.461210</td>\n",
       "    </tr>\n",
       "  </tbody>\n",
       "</table>\n",
       "</div>"
      ],
      "text/plain": [
       "   cap-shape     class\n",
       "0          0  0.108974\n",
       "1          1  1.000000\n",
       "2          2  0.497935\n",
       "3          3  0.727119\n",
       "4          4  0.000000\n",
       "5          5  0.461210"
      ]
     },
     "execution_count": 21,
     "metadata": {},
     "output_type": "execute_result"
    },
    {
     "data": {
      "image/png": "[encoded data removed]",
      "text/plain": [
       "<matplotlib.figure.Figure at 0x7f6aabe26510>"
      ]
     },
     "metadata": {},
     "output_type": "display_data"
    }
   ],
   "source": [
    "arr=train_db['cap-shape'].unique()\n",
    "x = []\n",
    "arr.sort()\n",
    "for var in arr:\n",
    "    z = train_db[train_db['cap-shape']==var]\n",
    "    y = z['class'].mean()\n",
    "    x.append(y)\n",
    "\n",
    "plot = sns.barplot(arr, x)\n",
    "train_db[['cap-shape', 'class']].groupby(['cap-shape'], as_index=False).mean()"
   ]
  },
  {
   "cell_type": "markdown",
   "metadata": {},
   "source": [
    "    All the mushrooms of cap=shape of type are non-poisonous i.e all edible"
   ]
  },
  {
   "cell_type": "code",
   "execution_count": 22,
   "metadata": {},
   "outputs": [
    {
     "data": {
      "text/html": [
       "<div>\n",
       "<style>\n",
       "    .dataframe thead tr:only-child th {\n",
       "        text-align: right;\n",
       "    }\n",
       "\n",
       "    .dataframe thead th {\n",
       "        text-align: left;\n",
       "    }\n",
       "\n",
       "    .dataframe tbody tr th {\n",
       "        vertical-align: top;\n",
       "    }\n",
       "</style>\n",
       "<table border=\"1\" class=\"dataframe\">\n",
       "  <thead>\n",
       "    <tr style=\"text-align: right;\">\n",
       "      <th></th>\n",
       "      <th>cap-surface</th>\n",
       "      <th>class</th>\n",
       "    </tr>\n",
       "  </thead>\n",
       "  <tbody>\n",
       "    <tr>\n",
       "      <th>0</th>\n",
       "      <td>0</td>\n",
       "      <td>0.328818</td>\n",
       "    </tr>\n",
       "    <tr>\n",
       "      <th>1</th>\n",
       "      <td>1</td>\n",
       "      <td>1.000000</td>\n",
       "    </tr>\n",
       "    <tr>\n",
       "      <th>2</th>\n",
       "      <td>2</td>\n",
       "      <td>0.551900</td>\n",
       "    </tr>\n",
       "    <tr>\n",
       "      <th>3</th>\n",
       "      <td>3</td>\n",
       "      <td>0.535948</td>\n",
       "    </tr>\n",
       "  </tbody>\n",
       "</table>\n",
       "</div>"
      ],
      "text/plain": [
       "   cap-surface     class\n",
       "0            0  0.328818\n",
       "1            1  1.000000\n",
       "2            2  0.551900\n",
       "3            3  0.535948"
      ]
     },
     "execution_count": 22,
     "metadata": {},
     "output_type": "execute_result"
    },
    {
     "data": {
      "image/png": "[encoded data removed]",
      "text/plain": [
       "<matplotlib.figure.Figure at 0x7f6aabdbde50>"
      ]
     },
     "metadata": {},
     "output_type": "display_data"
    }
   ],
   "source": [
    "arr=train_db['cap-surface'].unique()\n",
    "x = []\n",
    "arr.sort()\n",
    "for var in arr:\n",
    "    z = train_db[train_db['cap-surface']==var]\n",
    "    y = z['class'].mean()\n",
    "    x.append(y)\n",
    "\n",
    "plot = sns.barplot(arr, x)\n",
    "train_db[['cap-surface', 'class']].groupby(['cap-surface'], as_index=False).mean()"
   ]
  },
  {
   "cell_type": "code",
   "execution_count": 23,
   "metadata": {},
   "outputs": [
    {
     "data": {
      "text/html": [
       "<div>\n",
       "<style>\n",
       "    .dataframe thead tr:only-child th {\n",
       "        text-align: right;\n",
       "    }\n",
       "\n",
       "    .dataframe thead th {\n",
       "        text-align: left;\n",
       "    }\n",
       "\n",
       "    .dataframe tbody tr th {\n",
       "        vertical-align: top;\n",
       "    }\n",
       "</style>\n",
       "<table border=\"1\" class=\"dataframe\">\n",
       "  <thead>\n",
       "    <tr style=\"text-align: right;\">\n",
       "      <th></th>\n",
       "      <th>cap-color</th>\n",
       "      <th>class</th>\n",
       "    </tr>\n",
       "  </thead>\n",
       "  <tbody>\n",
       "    <tr>\n",
       "      <th>0</th>\n",
       "      <td>0</td>\n",
       "      <td>0.705357</td>\n",
       "    </tr>\n",
       "    <tr>\n",
       "      <th>1</th>\n",
       "      <td>1</td>\n",
       "      <td>0.250000</td>\n",
       "    </tr>\n",
       "    <tr>\n",
       "      <th>2</th>\n",
       "      <td>2</td>\n",
       "      <td>0.568571</td>\n",
       "    </tr>\n",
       "    <tr>\n",
       "      <th>3</th>\n",
       "      <td>3</td>\n",
       "      <td>0.436533</td>\n",
       "    </tr>\n",
       "    <tr>\n",
       "      <th>4</th>\n",
       "      <td>4</td>\n",
       "      <td>0.455000</td>\n",
       "    </tr>\n",
       "    <tr>\n",
       "      <th>5</th>\n",
       "      <td>5</td>\n",
       "      <td>0.596154</td>\n",
       "    </tr>\n",
       "    <tr>\n",
       "      <th>6</th>\n",
       "      <td>6</td>\n",
       "      <td>0.000000</td>\n",
       "    </tr>\n",
       "    <tr>\n",
       "      <th>7</th>\n",
       "      <td>7</td>\n",
       "      <td>0.000000</td>\n",
       "    </tr>\n",
       "    <tr>\n",
       "      <th>8</th>\n",
       "      <td>8</td>\n",
       "      <td>0.309722</td>\n",
       "    </tr>\n",
       "    <tr>\n",
       "      <th>9</th>\n",
       "      <td>9</td>\n",
       "      <td>0.634921</td>\n",
       "    </tr>\n",
       "  </tbody>\n",
       "</table>\n",
       "</div>"
      ],
      "text/plain": [
       "   cap-color     class\n",
       "0          0  0.705357\n",
       "1          1  0.250000\n",
       "2          2  0.568571\n",
       "3          3  0.436533\n",
       "4          4  0.455000\n",
       "5          5  0.596154\n",
       "6          6  0.000000\n",
       "7          7  0.000000\n",
       "8          8  0.309722\n",
       "9          9  0.634921"
      ]
     },
     "execution_count": 23,
     "metadata": {},
     "output_type": "execute_result"
    },
    {
     "data": {
      "image/png": "[encoded data removed]",
      "text/plain": [
       "<matplotlib.figure.Figure at 0x7f6aabe1c0d0>"
      ]
     },
     "metadata": {},
     "output_type": "display_data"
    }
   ],
   "source": [
    "arr=train_db['cap-color'].unique()\n",
    "x = []\n",
    "arr.sort()\n",
    "for var in arr:\n",
    "    z = train_db[train_db['cap-color']==var]\n",
    "    y = z['class'].mean()\n",
    "    x.append(y)\n",
    "\n",
    "plot = sns.barplot(arr, x)\n",
    "train_db[['cap-color', 'class']].groupby(['cap-color'], as_index=False).mean()"
   ]
  },
  {
   "cell_type": "markdown",
   "metadata": {},
   "source": [
    "    All the mushrooms of cap-color of type 6 & 7 are non-poisonous "
   ]
  },
  {
   "cell_type": "code",
   "execution_count": 24,
   "metadata": {},
   "outputs": [
    {
     "data": {
      "text/html": [
       "<div>\n",
       "<style>\n",
       "    .dataframe thead tr:only-child th {\n",
       "        text-align: right;\n",
       "    }\n",
       "\n",
       "    .dataframe thead th {\n",
       "        text-align: left;\n",
       "    }\n",
       "\n",
       "    .dataframe tbody tr th {\n",
       "        vertical-align: top;\n",
       "    }\n",
       "</style>\n",
       "<table border=\"1\" class=\"dataframe\">\n",
       "  <thead>\n",
       "    <tr style=\"text-align: right;\">\n",
       "      <th></th>\n",
       "      <th>bruises</th>\n",
       "      <th>class</th>\n",
       "    </tr>\n",
       "  </thead>\n",
       "  <tbody>\n",
       "    <tr>\n",
       "      <th>0</th>\n",
       "      <td>0</td>\n",
       "      <td>0.695573</td>\n",
       "    </tr>\n",
       "    <tr>\n",
       "      <th>1</th>\n",
       "      <td>1</td>\n",
       "      <td>0.187186</td>\n",
       "    </tr>\n",
       "  </tbody>\n",
       "</table>\n",
       "</div>"
      ],
      "text/plain": [
       "   bruises     class\n",
       "0        0  0.695573\n",
       "1        1  0.187186"
      ]
     },
     "execution_count": 24,
     "metadata": {},
     "output_type": "execute_result"
    },
    {
     "data": {
      "image/png": "[encoded data removed]",
      "text/plain": [
       "<matplotlib.figure.Figure at 0x7f6aabdd2910>"
      ]
     },
     "metadata": {},
     "output_type": "display_data"
    }
   ],
   "source": [
    "arr=train_db['bruises'].unique()\n",
    "x = []\n",
    "arr.sort()\n",
    "for var in arr:\n",
    "    z = train_db[train_db['bruises']==var]\n",
    "    y = z['class'].mean()\n",
    "    x.append(y)\n",
    "\n",
    "plot = sns.barplot(arr, x)\n",
    "train_db[['bruises', 'class']].groupby(['bruises'], as_index=False).mean()"
   ]
  },
  {
   "cell_type": "code",
   "execution_count": 25,
   "metadata": {},
   "outputs": [
    {
     "data": {
      "text/html": [
       "<div>\n",
       "<style>\n",
       "    .dataframe thead tr:only-child th {\n",
       "        text-align: right;\n",
       "    }\n",
       "\n",
       "    .dataframe thead th {\n",
       "        text-align: left;\n",
       "    }\n",
       "\n",
       "    .dataframe tbody tr th {\n",
       "        vertical-align: top;\n",
       "    }\n",
       "</style>\n",
       "<table border=\"1\" class=\"dataframe\">\n",
       "  <thead>\n",
       "    <tr style=\"text-align: right;\">\n",
       "      <th></th>\n",
       "      <th>odor</th>\n",
       "      <th>class</th>\n",
       "    </tr>\n",
       "  </thead>\n",
       "  <tbody>\n",
       "    <tr>\n",
       "      <th>0</th>\n",
       "      <td>0</td>\n",
       "      <td>0.000000</td>\n",
       "    </tr>\n",
       "    <tr>\n",
       "      <th>1</th>\n",
       "      <td>1</td>\n",
       "      <td>1.000000</td>\n",
       "    </tr>\n",
       "    <tr>\n",
       "      <th>2</th>\n",
       "      <td>2</td>\n",
       "      <td>1.000000</td>\n",
       "    </tr>\n",
       "    <tr>\n",
       "      <th>3</th>\n",
       "      <td>3</td>\n",
       "      <td>0.000000</td>\n",
       "    </tr>\n",
       "    <tr>\n",
       "      <th>4</th>\n",
       "      <td>4</td>\n",
       "      <td>1.000000</td>\n",
       "    </tr>\n",
       "    <tr>\n",
       "      <th>5</th>\n",
       "      <td>5</td>\n",
       "      <td>0.036992</td>\n",
       "    </tr>\n",
       "    <tr>\n",
       "      <th>6</th>\n",
       "      <td>6</td>\n",
       "      <td>1.000000</td>\n",
       "    </tr>\n",
       "    <tr>\n",
       "      <th>7</th>\n",
       "      <td>7</td>\n",
       "      <td>1.000000</td>\n",
       "    </tr>\n",
       "    <tr>\n",
       "      <th>8</th>\n",
       "      <td>8</td>\n",
       "      <td>1.000000</td>\n",
       "    </tr>\n",
       "  </tbody>\n",
       "</table>\n",
       "</div>"
      ],
      "text/plain": [
       "   odor     class\n",
       "0     0  0.000000\n",
       "1     1  1.000000\n",
       "2     2  1.000000\n",
       "3     3  0.000000\n",
       "4     4  1.000000\n",
       "5     5  0.036992\n",
       "6     6  1.000000\n",
       "7     7  1.000000\n",
       "8     8  1.000000"
      ]
     },
     "execution_count": 25,
     "metadata": {},
     "output_type": "execute_result"
    },
    {
     "data": {
      "image/png": "[encoded data removed]",
      "text/plain": [
       "<matplotlib.figure.Figure at 0x7f6ae0655890>"
      ]
     },
     "metadata": {},
     "output_type": "display_data"
    }
   ],
   "source": [
    "arr=train_db['odor'].unique()\n",
    "x = []\n",
    "arr.sort()\n",
    "for var in arr:\n",
    "    z = train_db[train_db['odor']==var]\n",
    "    y = z['class'].mean()\n",
    "    x.append(y)\n",
    "\n",
    "plot = sns.barplot(arr, x)\n",
    "train_db[['odor', 'class']].groupby(['odor'], as_index=False).mean()"
   ]
  },
  {
   "cell_type": "markdown",
   "metadata": {},
   "source": [
    "    All the mushrooms of odour of type 0&3 are all edible and the musroom of odor type 5 contains a small fraction of poisonous mushrooms"
   ]
  },
  {
   "cell_type": "code",
   "execution_count": 26,
   "metadata": {},
   "outputs": [
    {
     "data": {
      "text/html": [
       "<div>\n",
       "<style>\n",
       "    .dataframe thead tr:only-child th {\n",
       "        text-align: right;\n",
       "    }\n",
       "\n",
       "    .dataframe thead th {\n",
       "        text-align: left;\n",
       "    }\n",
       "\n",
       "    .dataframe tbody tr th {\n",
       "        vertical-align: top;\n",
       "    }\n",
       "</style>\n",
       "<table border=\"1\" class=\"dataframe\">\n",
       "  <thead>\n",
       "    <tr style=\"text-align: right;\">\n",
       "      <th></th>\n",
       "      <th>gill-attachment</th>\n",
       "      <th>class</th>\n",
       "    </tr>\n",
       "  </thead>\n",
       "  <tbody>\n",
       "    <tr>\n",
       "      <th>0</th>\n",
       "      <td>0</td>\n",
       "      <td>0.097015</td>\n",
       "    </tr>\n",
       "    <tr>\n",
       "      <th>1</th>\n",
       "      <td>1</td>\n",
       "      <td>0.491354</td>\n",
       "    </tr>\n",
       "  </tbody>\n",
       "</table>\n",
       "</div>"
      ],
      "text/plain": [
       "   gill-attachment     class\n",
       "0                0  0.097015\n",
       "1                1  0.491354"
      ]
     },
     "execution_count": 26,
     "metadata": {},
     "output_type": "execute_result"
    },
    {
     "data": {
      "image/png": "[encoded data removed]",
      "text/plain": [
       "<matplotlib.figure.Figure at 0x7f6aaa1fc210>"
      ]
     },
     "metadata": {},
     "output_type": "display_data"
    }
   ],
   "source": [
    "arr=train_db['gill-attachment'].unique()\n",
    "x = []\n",
    "arr.sort()\n",
    "for var in arr:\n",
    "    z = train_db[train_db['gill-attachment']==var]\n",
    "    y = z['class'].mean()\n",
    "    x.append(y)\n",
    "\n",
    "plot = sns.barplot(arr, x)\n",
    "train_db[['gill-attachment', 'class']].groupby(['gill-attachment'], as_index=False).mean()"
   ]
  },
  {
   "cell_type": "code",
   "execution_count": 27,
   "metadata": {},
   "outputs": [
    {
     "data": {
      "text/html": [
       "<div>\n",
       "<style>\n",
       "    .dataframe thead tr:only-child th {\n",
       "        text-align: right;\n",
       "    }\n",
       "\n",
       "    .dataframe thead th {\n",
       "        text-align: left;\n",
       "    }\n",
       "\n",
       "    .dataframe tbody tr th {\n",
       "        vertical-align: top;\n",
       "    }\n",
       "</style>\n",
       "<table border=\"1\" class=\"dataframe\">\n",
       "  <thead>\n",
       "    <tr style=\"text-align: right;\">\n",
       "      <th></th>\n",
       "      <th>gill-spacing</th>\n",
       "      <th>class</th>\n",
       "    </tr>\n",
       "  </thead>\n",
       "  <tbody>\n",
       "    <tr>\n",
       "      <th>0</th>\n",
       "      <td>0</td>\n",
       "      <td>0.558398</td>\n",
       "    </tr>\n",
       "    <tr>\n",
       "      <th>1</th>\n",
       "      <td>1</td>\n",
       "      <td>0.085060</td>\n",
       "    </tr>\n",
       "  </tbody>\n",
       "</table>\n",
       "</div>"
      ],
      "text/plain": [
       "   gill-spacing     class\n",
       "0             0  0.558398\n",
       "1             1  0.085060"
      ]
     },
     "execution_count": 27,
     "metadata": {},
     "output_type": "execute_result"
    },
    {
     "data": {
      "image/png": "[encoded data removed]",
      "text/plain": [
       "<matplotlib.figure.Figure at 0x7f6aabd979d0>"
      ]
     },
     "metadata": {},
     "output_type": "display_data"
    }
   ],
   "source": [
    "arr=train_db['gill-spacing'].unique()\n",
    "x = []\n",
    "arr.sort()\n",
    "for var in arr:\n",
    "    z = train_db[train_db['gill-spacing']==var]\n",
    "    y = z['class'].mean()\n",
    "    x.append(y)\n",
    "\n",
    "plot = sns.barplot(arr, x)\n",
    "train_db[['gill-spacing', 'class']].groupby(['gill-spacing'], as_index=False).mean()"
   ]
  },
  {
   "cell_type": "code",
   "execution_count": 28,
   "metadata": {},
   "outputs": [
    {
     "data": {
      "text/html": [
       "<div>\n",
       "<style>\n",
       "    .dataframe thead tr:only-child th {\n",
       "        text-align: right;\n",
       "    }\n",
       "\n",
       "    .dataframe thead th {\n",
       "        text-align: left;\n",
       "    }\n",
       "\n",
       "    .dataframe tbody tr th {\n",
       "        vertical-align: top;\n",
       "    }\n",
       "</style>\n",
       "<table border=\"1\" class=\"dataframe\">\n",
       "  <thead>\n",
       "    <tr style=\"text-align: right;\">\n",
       "      <th></th>\n",
       "      <th>gill-size</th>\n",
       "      <th>class</th>\n",
       "    </tr>\n",
       "  </thead>\n",
       "  <tbody>\n",
       "    <tr>\n",
       "      <th>0</th>\n",
       "      <td>0</td>\n",
       "      <td>0.301858</td>\n",
       "    </tr>\n",
       "    <tr>\n",
       "      <th>1</th>\n",
       "      <td>1</td>\n",
       "      <td>0.885031</td>\n",
       "    </tr>\n",
       "  </tbody>\n",
       "</table>\n",
       "</div>"
      ],
      "text/plain": [
       "   gill-size     class\n",
       "0          0  0.301858\n",
       "1          1  0.885031"
      ]
     },
     "execution_count": 28,
     "metadata": {},
     "output_type": "execute_result"
    },
    {
     "data": {
      "image/png": "[encoded data removed]",
      "text/plain": [
       "<matplotlib.figure.Figure at 0x7f6aabd97dd0>"
      ]
     },
     "metadata": {},
     "output_type": "display_data"
    }
   ],
   "source": [
    "arr=train_db['gill-size'].unique()\n",
    "x = []\n",
    "arr.sort()\n",
    "for var in arr:\n",
    "    z = train_db[train_db['gill-size']==var]\n",
    "    y = z['class'].mean()\n",
    "    x.append(y)\n",
    "\n",
    "plot = sns.barplot(arr, x)\n",
    "train_db[['gill-size', 'class']].groupby(['gill-size'], as_index=False).mean()"
   ]
  },
  {
   "cell_type": "code",
   "execution_count": 29,
   "metadata": {},
   "outputs": [
    {
     "data": {
      "text/html": [
       "<div>\n",
       "<style>\n",
       "    .dataframe thead tr:only-child th {\n",
       "        text-align: right;\n",
       "    }\n",
       "\n",
       "    .dataframe thead th {\n",
       "        text-align: left;\n",
       "    }\n",
       "\n",
       "    .dataframe tbody tr th {\n",
       "        vertical-align: top;\n",
       "    }\n",
       "</style>\n",
       "<table border=\"1\" class=\"dataframe\">\n",
       "  <thead>\n",
       "    <tr style=\"text-align: right;\">\n",
       "      <th></th>\n",
       "      <th>gill-color</th>\n",
       "      <th>class</th>\n",
       "    </tr>\n",
       "  </thead>\n",
       "  <tbody>\n",
       "    <tr>\n",
       "      <th>0</th>\n",
       "      <td>0</td>\n",
       "      <td>1.000000</td>\n",
       "    </tr>\n",
       "    <tr>\n",
       "      <th>1</th>\n",
       "      <td>1</td>\n",
       "      <td>0.000000</td>\n",
       "    </tr>\n",
       "    <tr>\n",
       "      <th>2</th>\n",
       "      <td>2</td>\n",
       "      <td>0.653992</td>\n",
       "    </tr>\n",
       "    <tr>\n",
       "      <th>3</th>\n",
       "      <td>3</td>\n",
       "      <td>0.718868</td>\n",
       "    </tr>\n",
       "    <tr>\n",
       "      <th>4</th>\n",
       "      <td>4</td>\n",
       "      <td>0.185874</td>\n",
       "    </tr>\n",
       "    <tr>\n",
       "      <th>5</th>\n",
       "      <td>5</td>\n",
       "      <td>0.114011</td>\n",
       "    </tr>\n",
       "    <tr>\n",
       "      <th>6</th>\n",
       "      <td>6</td>\n",
       "      <td>0.000000</td>\n",
       "    </tr>\n",
       "    <tr>\n",
       "      <th>7</th>\n",
       "      <td>7</td>\n",
       "      <td>0.427767</td>\n",
       "    </tr>\n",
       "    <tr>\n",
       "      <th>8</th>\n",
       "      <td>8</td>\n",
       "      <td>1.000000</td>\n",
       "    </tr>\n",
       "    <tr>\n",
       "      <th>9</th>\n",
       "      <td>9</td>\n",
       "      <td>0.085044</td>\n",
       "    </tr>\n",
       "    <tr>\n",
       "      <th>10</th>\n",
       "      <td>10</td>\n",
       "      <td>0.196682</td>\n",
       "    </tr>\n",
       "    <tr>\n",
       "      <th>11</th>\n",
       "      <td>11</td>\n",
       "      <td>0.267857</td>\n",
       "    </tr>\n",
       "  </tbody>\n",
       "</table>\n",
       "</div>"
      ],
      "text/plain": [
       "    gill-color     class\n",
       "0            0  1.000000\n",
       "1            1  0.000000\n",
       "2            2  0.653992\n",
       "3            3  0.718868\n",
       "4            4  0.185874\n",
       "5            5  0.114011\n",
       "6            6  0.000000\n",
       "7            7  0.427767\n",
       "8            8  1.000000\n",
       "9            9  0.085044\n",
       "10          10  0.196682\n",
       "11          11  0.267857"
      ]
     },
     "execution_count": 29,
     "metadata": {},
     "output_type": "execute_result"
    },
    {
     "data": {
      "image/png": "[encoded data removed]",
      "text/plain": [
       "<matplotlib.figure.Figure at 0x7f6aaa463790>"
      ]
     },
     "metadata": {},
     "output_type": "display_data"
    }
   ],
   "source": [
    "arr=train_db['gill-color'].unique()\n",
    "x = []\n",
    "arr.sort()\n",
    "for var in arr:\n",
    "    z = train_db[train_db['gill-color']==var]\n",
    "    y = z['class'].mean()\n",
    "    x.append(y)\n",
    "\n",
    "plot = sns.barplot(arr, x)\n",
    "train_db[['gill-color', 'class']].groupby(['gill-color'], as_index=False).mean()"
   ]
  },
  {
   "cell_type": "code",
   "execution_count": 30,
   "metadata": {},
   "outputs": [
    {
     "data": {
      "text/html": [
       "<div>\n",
       "<style>\n",
       "    .dataframe thead tr:only-child th {\n",
       "        text-align: right;\n",
       "    }\n",
       "\n",
       "    .dataframe thead th {\n",
       "        text-align: left;\n",
       "    }\n",
       "\n",
       "    .dataframe tbody tr th {\n",
       "        vertical-align: top;\n",
       "    }\n",
       "</style>\n",
       "<table border=\"1\" class=\"dataframe\">\n",
       "  <thead>\n",
       "    <tr style=\"text-align: right;\">\n",
       "      <th></th>\n",
       "      <th>stalk-shape</th>\n",
       "      <th>class</th>\n",
       "    </tr>\n",
       "  </thead>\n",
       "  <tbody>\n",
       "    <tr>\n",
       "      <th>0</th>\n",
       "      <td>0</td>\n",
       "      <td>0.545085</td>\n",
       "    </tr>\n",
       "    <tr>\n",
       "      <th>1</th>\n",
       "      <td>1</td>\n",
       "      <td>0.433933</td>\n",
       "    </tr>\n",
       "  </tbody>\n",
       "</table>\n",
       "</div>"
      ],
      "text/plain": [
       "   stalk-shape     class\n",
       "0            0  0.545085\n",
       "1            1  0.433933"
      ]
     },
     "execution_count": 30,
     "metadata": {},
     "output_type": "execute_result"
    },
    {
     "data": {
      "image/png": "[encoded data removed]",
      "text/plain": [
       "<matplotlib.figure.Figure at 0x7f6aa9f0ca90>"
      ]
     },
     "metadata": {},
     "output_type": "display_data"
    }
   ],
   "source": [
    "arr=train_db['stalk-shape'].unique()\n",
    "x = []\n",
    "arr.sort()\n",
    "for var in arr:\n",
    "    z = train_db[train_db['stalk-shape']==var]\n",
    "    y = z['class'].mean()\n",
    "    x.append(y)\n",
    "\n",
    "plot = sns.barplot(arr, x)\n",
    "train_db[['stalk-shape', 'class']].groupby(['stalk-shape'], as_index=False).mean()"
   ]
  },
  {
   "cell_type": "code",
   "execution_count": 31,
   "metadata": {},
   "outputs": [
    {
     "data": {
      "text/html": [
       "<div>\n",
       "<style>\n",
       "    .dataframe thead tr:only-child th {\n",
       "        text-align: right;\n",
       "    }\n",
       "\n",
       "    .dataframe thead th {\n",
       "        text-align: left;\n",
       "    }\n",
       "\n",
       "    .dataframe tbody tr th {\n",
       "        vertical-align: top;\n",
       "    }\n",
       "</style>\n",
       "<table border=\"1\" class=\"dataframe\">\n",
       "  <thead>\n",
       "    <tr style=\"text-align: right;\">\n",
       "      <th></th>\n",
       "      <th>stalk-root</th>\n",
       "      <th>class</th>\n",
       "    </tr>\n",
       "  </thead>\n",
       "  <tbody>\n",
       "    <tr>\n",
       "      <th>0</th>\n",
       "      <td>0</td>\n",
       "      <td>0.708743</td>\n",
       "    </tr>\n",
       "    <tr>\n",
       "      <th>1</th>\n",
       "      <td>1</td>\n",
       "      <td>0.486679</td>\n",
       "    </tr>\n",
       "    <tr>\n",
       "      <th>2</th>\n",
       "      <td>2</td>\n",
       "      <td>0.083770</td>\n",
       "    </tr>\n",
       "    <tr>\n",
       "      <th>3</th>\n",
       "      <td>3</td>\n",
       "      <td>0.241026</td>\n",
       "    </tr>\n",
       "    <tr>\n",
       "      <th>4</th>\n",
       "      <td>4</td>\n",
       "      <td>0.000000</td>\n",
       "    </tr>\n",
       "  </tbody>\n",
       "</table>\n",
       "</div>"
      ],
      "text/plain": [
       "   stalk-root     class\n",
       "0           0  0.708743\n",
       "1           1  0.486679\n",
       "2           2  0.083770\n",
       "3           3  0.241026\n",
       "4           4  0.000000"
      ]
     },
     "execution_count": 31,
     "metadata": {},
     "output_type": "execute_result"
    },
    {
     "data": {
      "image/png": "[encoded data removed]",
      "text/plain": [
       "<matplotlib.figure.Figure at 0x7f6aa9f0c4d0>"
      ]
     },
     "metadata": {},
     "output_type": "display_data"
    }
   ],
   "source": [
    "arr=train_db['stalk-root'].unique()\n",
    "x = []\n",
    "arr.sort()\n",
    "for var in arr:\n",
    "    z = train_db[train_db['stalk-root']==var]\n",
    "    y = z['class'].mean()\n",
    "    x.append(y)\n",
    "\n",
    "plot = sns.barplot(arr, x)\n",
    "train_db[['stalk-root', 'class']].groupby(['stalk-root'], as_index=False).mean()"
   ]
  },
  {
   "cell_type": "code",
   "execution_count": 32,
   "metadata": {},
   "outputs": [
    {
     "data": {
      "text/html": [
       "<div>\n",
       "<style>\n",
       "    .dataframe thead tr:only-child th {\n",
       "        text-align: right;\n",
       "    }\n",
       "\n",
       "    .dataframe thead th {\n",
       "        text-align: left;\n",
       "    }\n",
       "\n",
       "    .dataframe tbody tr th {\n",
       "        vertical-align: top;\n",
       "    }\n",
       "</style>\n",
       "<table border=\"1\" class=\"dataframe\">\n",
       "  <thead>\n",
       "    <tr style=\"text-align: right;\">\n",
       "      <th></th>\n",
       "      <th>stalk-surface-above-ring</th>\n",
       "      <th>class</th>\n",
       "    </tr>\n",
       "  </thead>\n",
       "  <tbody>\n",
       "    <tr>\n",
       "      <th>0</th>\n",
       "      <td>0</td>\n",
       "      <td>0.268421</td>\n",
       "    </tr>\n",
       "    <tr>\n",
       "      <th>1</th>\n",
       "      <td>1</td>\n",
       "      <td>0.939193</td>\n",
       "    </tr>\n",
       "    <tr>\n",
       "      <th>2</th>\n",
       "      <td>2</td>\n",
       "      <td>0.295530</td>\n",
       "    </tr>\n",
       "    <tr>\n",
       "      <th>3</th>\n",
       "      <td>3</td>\n",
       "      <td>0.380952</td>\n",
       "    </tr>\n",
       "  </tbody>\n",
       "</table>\n",
       "</div>"
      ],
      "text/plain": [
       "   stalk-surface-above-ring     class\n",
       "0                         0  0.268421\n",
       "1                         1  0.939193\n",
       "2                         2  0.295530\n",
       "3                         3  0.380952"
      ]
     },
     "execution_count": 32,
     "metadata": {},
     "output_type": "execute_result"
    },
    {
     "data": {
      "image/png": "[encoded data removed]",
      "text/plain": [
       "<matplotlib.figure.Figure at 0x7f6aaa1624d0>"
      ]
     },
     "metadata": {},
     "output_type": "display_data"
    }
   ],
   "source": [
    "arr=train_db['stalk-surface-above-ring'].unique()\n",
    "x = []\n",
    "arr.sort()\n",
    "for var in arr:\n",
    "    z = train_db[train_db['stalk-surface-above-ring']==var]\n",
    "    y = z['class'].mean()\n",
    "    x.append(y)\n",
    "\n",
    "plot = sns.barplot(arr, x)\n",
    "train_db[['stalk-surface-above-ring', 'class']].groupby(['stalk-surface-above-ring'], as_index=False).mean()"
   ]
  },
  {
   "cell_type": "code",
   "execution_count": 33,
   "metadata": {},
   "outputs": [
    {
     "data": {
      "text/html": [
       "<div>\n",
       "<style>\n",
       "    .dataframe thead tr:only-child th {\n",
       "        text-align: right;\n",
       "    }\n",
       "\n",
       "    .dataframe thead th {\n",
       "        text-align: left;\n",
       "    }\n",
       "\n",
       "    .dataframe tbody tr th {\n",
       "        vertical-align: top;\n",
       "    }\n",
       "</style>\n",
       "<table border=\"1\" class=\"dataframe\">\n",
       "  <thead>\n",
       "    <tr style=\"text-align: right;\">\n",
       "      <th></th>\n",
       "      <th>stalk-surface-below-ring</th>\n",
       "      <th>class</th>\n",
       "    </tr>\n",
       "  </thead>\n",
       "  <tbody>\n",
       "    <tr>\n",
       "      <th>0</th>\n",
       "      <td>0</td>\n",
       "      <td>0.245098</td>\n",
       "    </tr>\n",
       "    <tr>\n",
       "      <th>1</th>\n",
       "      <td>1</td>\n",
       "      <td>0.935564</td>\n",
       "    </tr>\n",
       "    <tr>\n",
       "      <th>2</th>\n",
       "      <td>2</td>\n",
       "      <td>0.310424</td>\n",
       "    </tr>\n",
       "    <tr>\n",
       "      <th>3</th>\n",
       "      <td>3</td>\n",
       "      <td>0.278607</td>\n",
       "    </tr>\n",
       "  </tbody>\n",
       "</table>\n",
       "</div>"
      ],
      "text/plain": [
       "   stalk-surface-below-ring     class\n",
       "0                         0  0.245098\n",
       "1                         1  0.935564\n",
       "2                         2  0.310424\n",
       "3                         3  0.278607"
      ]
     },
     "execution_count": 33,
     "metadata": {},
     "output_type": "execute_result"
    },
    {
     "data": {
      "image/png": "[encoded data removed]",
      "text/plain": [
       "<matplotlib.figure.Figure at 0x7f6aa9f18490>"
      ]
     },
     "metadata": {},
     "output_type": "display_data"
    }
   ],
   "source": [
    "arr=train_db['stalk-surface-below-ring'].unique()\n",
    "x = []\n",
    "arr.sort()\n",
    "for var in arr:\n",
    "    z = train_db[train_db['stalk-surface-below-ring']==var]\n",
    "    y = z['class'].mean()\n",
    "    x.append(y)\n",
    "\n",
    "plot = sns.barplot(arr, x)\n",
    "train_db[['stalk-surface-below-ring', 'class']].groupby(['stalk-surface-below-ring'], as_index=False).mean()"
   ]
  },
  {
   "cell_type": "code",
   "execution_count": 34,
   "metadata": {},
   "outputs": [
    {
     "data": {
      "text/html": [
       "<div>\n",
       "<style>\n",
       "    .dataframe thead tr:only-child th {\n",
       "        text-align: right;\n",
       "    }\n",
       "\n",
       "    .dataframe thead th {\n",
       "        text-align: left;\n",
       "    }\n",
       "\n",
       "    .dataframe tbody tr th {\n",
       "        vertical-align: top;\n",
       "    }\n",
       "</style>\n",
       "<table border=\"1\" class=\"dataframe\">\n",
       "  <thead>\n",
       "    <tr style=\"text-align: right;\">\n",
       "      <th></th>\n",
       "      <th>stalk-color-above-ring</th>\n",
       "      <th>class</th>\n",
       "    </tr>\n",
       "  </thead>\n",
       "  <tbody>\n",
       "    <tr>\n",
       "      <th>0</th>\n",
       "      <td>0</td>\n",
       "      <td>1.000000</td>\n",
       "    </tr>\n",
       "    <tr>\n",
       "      <th>1</th>\n",
       "      <td>1</td>\n",
       "      <td>1.000000</td>\n",
       "    </tr>\n",
       "    <tr>\n",
       "      <th>2</th>\n",
       "      <td>2</td>\n",
       "      <td>0.000000</td>\n",
       "    </tr>\n",
       "    <tr>\n",
       "      <th>3</th>\n",
       "      <td>3</td>\n",
       "      <td>0.000000</td>\n",
       "    </tr>\n",
       "    <tr>\n",
       "      <th>4</th>\n",
       "      <td>4</td>\n",
       "      <td>0.958730</td>\n",
       "    </tr>\n",
       "    <tr>\n",
       "      <th>5</th>\n",
       "      <td>5</td>\n",
       "      <td>0.000000</td>\n",
       "    </tr>\n",
       "    <tr>\n",
       "      <th>6</th>\n",
       "      <td>6</td>\n",
       "      <td>0.700539</td>\n",
       "    </tr>\n",
       "    <tr>\n",
       "      <th>7</th>\n",
       "      <td>7</td>\n",
       "      <td>0.384369</td>\n",
       "    </tr>\n",
       "    <tr>\n",
       "      <th>8</th>\n",
       "      <td>8</td>\n",
       "      <td>1.000000</td>\n",
       "    </tr>\n",
       "  </tbody>\n",
       "</table>\n",
       "</div>"
      ],
      "text/plain": [
       "   stalk-color-above-ring     class\n",
       "0                       0  1.000000\n",
       "1                       1  1.000000\n",
       "2                       2  0.000000\n",
       "3                       3  0.000000\n",
       "4                       4  0.958730\n",
       "5                       5  0.000000\n",
       "6                       6  0.700539\n",
       "7                       7  0.384369\n",
       "8                       8  1.000000"
      ]
     },
     "execution_count": 34,
     "metadata": {},
     "output_type": "execute_result"
    },
    {
     "data": {
      "image/png": "[encoded data removed]",
      "text/plain": [
       "<matplotlib.figure.Figure at 0x7f6aa9fa9e90>"
      ]
     },
     "metadata": {},
     "output_type": "display_data"
    }
   ],
   "source": [
    "arr=train_db['stalk-color-above-ring'].unique()\n",
    "x = []\n",
    "arr.sort()\n",
    "for var in arr:\n",
    "    z = train_db[train_db['stalk-color-above-ring']==var]\n",
    "    y = z['class'].mean()\n",
    "    x.append(y)\n",
    "\n",
    "plot = sns.barplot(arr, x)\n",
    "train_db[['stalk-color-above-ring', 'class']].groupby(['stalk-color-above-ring'], as_index=False).mean()"
   ]
  },
  {
   "cell_type": "code",
   "execution_count": 35,
   "metadata": {},
   "outputs": [
    {
     "data": {
      "text/html": [
       "<div>\n",
       "<style>\n",
       "    .dataframe thead tr:only-child th {\n",
       "        text-align: right;\n",
       "    }\n",
       "\n",
       "    .dataframe thead th {\n",
       "        text-align: left;\n",
       "    }\n",
       "\n",
       "    .dataframe tbody tr th {\n",
       "        vertical-align: top;\n",
       "    }\n",
       "</style>\n",
       "<table border=\"1\" class=\"dataframe\">\n",
       "  <thead>\n",
       "    <tr style=\"text-align: right;\">\n",
       "      <th></th>\n",
       "      <th>stalk-color-below-ring</th>\n",
       "      <th>class</th>\n",
       "    </tr>\n",
       "  </thead>\n",
       "  <tbody>\n",
       "    <tr>\n",
       "      <th>0</th>\n",
       "      <td>0</td>\n",
       "      <td>1.000000</td>\n",
       "    </tr>\n",
       "    <tr>\n",
       "      <th>1</th>\n",
       "      <td>1</td>\n",
       "      <td>1.000000</td>\n",
       "    </tr>\n",
       "    <tr>\n",
       "      <th>2</th>\n",
       "      <td>2</td>\n",
       "      <td>0.000000</td>\n",
       "    </tr>\n",
       "    <tr>\n",
       "      <th>3</th>\n",
       "      <td>3</td>\n",
       "      <td>0.000000</td>\n",
       "    </tr>\n",
       "    <tr>\n",
       "      <th>4</th>\n",
       "      <td>4</td>\n",
       "      <td>0.864789</td>\n",
       "    </tr>\n",
       "    <tr>\n",
       "      <th>5</th>\n",
       "      <td>5</td>\n",
       "      <td>0.000000</td>\n",
       "    </tr>\n",
       "    <tr>\n",
       "      <th>6</th>\n",
       "      <td>6</td>\n",
       "      <td>0.690810</td>\n",
       "    </tr>\n",
       "    <tr>\n",
       "      <th>7</th>\n",
       "      <td>7</td>\n",
       "      <td>0.386667</td>\n",
       "    </tr>\n",
       "    <tr>\n",
       "      <th>8</th>\n",
       "      <td>8</td>\n",
       "      <td>1.000000</td>\n",
       "    </tr>\n",
       "  </tbody>\n",
       "</table>\n",
       "</div>"
      ],
      "text/plain": [
       "   stalk-color-below-ring     class\n",
       "0                       0  1.000000\n",
       "1                       1  1.000000\n",
       "2                       2  0.000000\n",
       "3                       3  0.000000\n",
       "4                       4  0.864789\n",
       "5                       5  0.000000\n",
       "6                       6  0.690810\n",
       "7                       7  0.386667\n",
       "8                       8  1.000000"
      ]
     },
     "execution_count": 35,
     "metadata": {},
     "output_type": "execute_result"
    },
    {
     "data": {
      "image/png": "[encoded data removed]",
      "text/plain": [
       "<matplotlib.figure.Figure at 0x7f6aaa205850>"
      ]
     },
     "metadata": {},
     "output_type": "display_data"
    }
   ],
   "source": [
    "arr=train_db['stalk-color-below-ring'].unique()\n",
    "x = []\n",
    "arr.sort()\n",
    "for var in arr:\n",
    "    z = train_db[train_db['stalk-color-below-ring']==var]\n",
    "    y = z['class'].mean()\n",
    "    x.append(y)\n",
    "\n",
    "plot = sns.barplot(arr, x)\n",
    "train_db[['stalk-color-below-ring', 'class']].groupby(['stalk-color-below-ring'], as_index=False).mean()"
   ]
  },
  {
   "cell_type": "markdown",
   "metadata": {},
   "source": [
    "    Here we see that the graph of stalk-color-above-ring and stalk-color-below-ring are quite similar and that of stlk-surface above the ring and stalk-surface-below the ring \n",
    "    "
   ]
  },
  {
   "cell_type": "code",
   "execution_count": 36,
   "metadata": {},
   "outputs": [
    {
     "data": {
      "text/html": [
       "<div>\n",
       "<style>\n",
       "    .dataframe thead tr:only-child th {\n",
       "        text-align: right;\n",
       "    }\n",
       "\n",
       "    .dataframe thead th {\n",
       "        text-align: left;\n",
       "    }\n",
       "\n",
       "    .dataframe tbody tr th {\n",
       "        vertical-align: top;\n",
       "    }\n",
       "</style>\n",
       "<table border=\"1\" class=\"dataframe\">\n",
       "  <thead>\n",
       "    <tr style=\"text-align: right;\">\n",
       "      <th></th>\n",
       "      <th>veil-color</th>\n",
       "      <th>class</th>\n",
       "    </tr>\n",
       "  </thead>\n",
       "  <tbody>\n",
       "    <tr>\n",
       "      <th>0</th>\n",
       "      <td>0</td>\n",
       "      <td>0.000000</td>\n",
       "    </tr>\n",
       "    <tr>\n",
       "      <th>1</th>\n",
       "      <td>1</td>\n",
       "      <td>0.000000</td>\n",
       "    </tr>\n",
       "    <tr>\n",
       "      <th>2</th>\n",
       "      <td>2</td>\n",
       "      <td>0.491812</td>\n",
       "    </tr>\n",
       "    <tr>\n",
       "      <th>3</th>\n",
       "      <td>3</td>\n",
       "      <td>1.000000</td>\n",
       "    </tr>\n",
       "  </tbody>\n",
       "</table>\n",
       "</div>"
      ],
      "text/plain": [
       "   veil-color     class\n",
       "0           0  0.000000\n",
       "1           1  0.000000\n",
       "2           2  0.491812\n",
       "3           3  1.000000"
      ]
     },
     "execution_count": 36,
     "metadata": {},
     "output_type": "execute_result"
    },
    {
     "data": {
      "image/png": "[encoded data removed]",
      "text/plain": [
       "<matplotlib.figure.Figure at 0x7f6aabe573d0>"
      ]
     },
     "metadata": {},
     "output_type": "display_data"
    }
   ],
   "source": [
    "arr=train_db['veil-color'].unique()\n",
    "x = []\n",
    "arr.sort()\n",
    "for var in arr:\n",
    "    z = train_db[train_db['veil-color']==var]\n",
    "    y = z['class'].mean()\n",
    "    x.append(y)\n",
    "\n",
    "plot = sns.barplot(arr, x)\n",
    "train_db[['veil-color', 'class']].groupby(['veil-color'], as_index=False).mean()"
   ]
  },
  {
   "cell_type": "code",
   "execution_count": 37,
   "metadata": {},
   "outputs": [
    {
     "data": {
      "text/html": [
       "<div>\n",
       "<style>\n",
       "    .dataframe thead tr:only-child th {\n",
       "        text-align: right;\n",
       "    }\n",
       "\n",
       "    .dataframe thead th {\n",
       "        text-align: left;\n",
       "    }\n",
       "\n",
       "    .dataframe tbody tr th {\n",
       "        vertical-align: top;\n",
       "    }\n",
       "</style>\n",
       "<table border=\"1\" class=\"dataframe\">\n",
       "  <thead>\n",
       "    <tr style=\"text-align: right;\">\n",
       "      <th></th>\n",
       "      <th>ring-number</th>\n",
       "      <th>class</th>\n",
       "    </tr>\n",
       "  </thead>\n",
       "  <tbody>\n",
       "    <tr>\n",
       "      <th>0</th>\n",
       "      <td>0</td>\n",
       "      <td>1.000000</td>\n",
       "    </tr>\n",
       "    <tr>\n",
       "      <th>1</th>\n",
       "      <td>1</td>\n",
       "      <td>0.509853</td>\n",
       "    </tr>\n",
       "    <tr>\n",
       "      <th>2</th>\n",
       "      <td>2</td>\n",
       "      <td>0.119540</td>\n",
       "    </tr>\n",
       "  </tbody>\n",
       "</table>\n",
       "</div>"
      ],
      "text/plain": [
       "   ring-number     class\n",
       "0            0  1.000000\n",
       "1            1  0.509853\n",
       "2            2  0.119540"
      ]
     },
     "execution_count": 37,
     "metadata": {},
     "output_type": "execute_result"
    },
    {
     "data": {
      "image/png": "[encoded data removed]",
      "text/plain": [
       "<matplotlib.figure.Figure at 0x7f6aaa0a8290>"
      ]
     },
     "metadata": {},
     "output_type": "display_data"
    }
   ],
   "source": [
    "arr=train_db['ring-number'].unique()\n",
    "x = []\n",
    "arr.sort()\n",
    "for var in arr:\n",
    "    z = train_db[train_db['ring-number']==var]\n",
    "    y = z['class'].mean()\n",
    "    x.append(y)\n",
    "\n",
    "plot = sns.barplot(arr, x)\n",
    "train_db[['ring-number', 'class']].groupby(['ring-number'], as_index=False).mean()"
   ]
  },
  {
   "cell_type": "code",
   "execution_count": 38,
   "metadata": {},
   "outputs": [
    {
     "data": {
      "text/html": [
       "<div>\n",
       "<style>\n",
       "    .dataframe thead tr:only-child th {\n",
       "        text-align: right;\n",
       "    }\n",
       "\n",
       "    .dataframe thead th {\n",
       "        text-align: left;\n",
       "    }\n",
       "\n",
       "    .dataframe tbody tr th {\n",
       "        vertical-align: top;\n",
       "    }\n",
       "</style>\n",
       "<table border=\"1\" class=\"dataframe\">\n",
       "  <thead>\n",
       "    <tr style=\"text-align: right;\">\n",
       "      <th></th>\n",
       "      <th>ring-type</th>\n",
       "      <th>class</th>\n",
       "    </tr>\n",
       "  </thead>\n",
       "  <tbody>\n",
       "    <tr>\n",
       "      <th>0</th>\n",
       "      <td>0</td>\n",
       "      <td>0.638011</td>\n",
       "    </tr>\n",
       "    <tr>\n",
       "      <th>1</th>\n",
       "      <td>1</td>\n",
       "      <td>0.000000</td>\n",
       "    </tr>\n",
       "    <tr>\n",
       "      <th>2</th>\n",
       "      <td>2</td>\n",
       "      <td>1.000000</td>\n",
       "    </tr>\n",
       "    <tr>\n",
       "      <th>3</th>\n",
       "      <td>3</td>\n",
       "      <td>1.000000</td>\n",
       "    </tr>\n",
       "    <tr>\n",
       "      <th>4</th>\n",
       "      <td>4</td>\n",
       "      <td>0.205882</td>\n",
       "    </tr>\n",
       "  </tbody>\n",
       "</table>\n",
       "</div>"
      ],
      "text/plain": [
       "   ring-type     class\n",
       "0          0  0.638011\n",
       "1          1  0.000000\n",
       "2          2  1.000000\n",
       "3          3  1.000000\n",
       "4          4  0.205882"
      ]
     },
     "execution_count": 38,
     "metadata": {},
     "output_type": "execute_result"
    },
    {
     "data": {
      "image/png": "[encoded data removed]",
      "text/plain": [
       "<matplotlib.figure.Figure at 0x7f6aabcfa1d0>"
      ]
     },
     "metadata": {},
     "output_type": "display_data"
    }
   ],
   "source": [
    "arr=train_db['ring-type'].unique()\n",
    "x = []\n",
    "arr.sort()\n",
    "for var in arr:\n",
    "    z = train_db[train_db['ring-type']==var]\n",
    "    y = z['class'].mean()\n",
    "    x.append(y)\n",
    "\n",
    "plot = sns.barplot(arr, x)\n",
    "train_db[['ring-type', 'class']].groupby(['ring-type'], as_index=False).mean()"
   ]
  },
  {
   "cell_type": "code",
   "execution_count": 39,
   "metadata": {},
   "outputs": [
    {
     "data": {
      "text/html": [
       "<div>\n",
       "<style>\n",
       "    .dataframe thead tr:only-child th {\n",
       "        text-align: right;\n",
       "    }\n",
       "\n",
       "    .dataframe thead th {\n",
       "        text-align: left;\n",
       "    }\n",
       "\n",
       "    .dataframe tbody tr th {\n",
       "        vertical-align: top;\n",
       "    }\n",
       "</style>\n",
       "<table border=\"1\" class=\"dataframe\">\n",
       "  <thead>\n",
       "    <tr style=\"text-align: right;\">\n",
       "      <th></th>\n",
       "      <th>spore-print-color</th>\n",
       "      <th>class</th>\n",
       "    </tr>\n",
       "  </thead>\n",
       "  <tbody>\n",
       "    <tr>\n",
       "      <th>0</th>\n",
       "      <td>0</td>\n",
       "      <td>0.000000</td>\n",
       "    </tr>\n",
       "    <tr>\n",
       "      <th>1</th>\n",
       "      <td>1</td>\n",
       "      <td>0.971979</td>\n",
       "    </tr>\n",
       "    <tr>\n",
       "      <th>2</th>\n",
       "      <td>2</td>\n",
       "      <td>0.124611</td>\n",
       "    </tr>\n",
       "    <tr>\n",
       "      <th>3</th>\n",
       "      <td>3</td>\n",
       "      <td>0.110635</td>\n",
       "    </tr>\n",
       "    <tr>\n",
       "      <th>4</th>\n",
       "      <td>4</td>\n",
       "      <td>0.000000</td>\n",
       "    </tr>\n",
       "    <tr>\n",
       "      <th>5</th>\n",
       "      <td>5</td>\n",
       "      <td>1.000000</td>\n",
       "    </tr>\n",
       "    <tr>\n",
       "      <th>6</th>\n",
       "      <td>6</td>\n",
       "      <td>0.000000</td>\n",
       "    </tr>\n",
       "    <tr>\n",
       "      <th>7</th>\n",
       "      <td>7</td>\n",
       "      <td>0.751486</td>\n",
       "    </tr>\n",
       "    <tr>\n",
       "      <th>8</th>\n",
       "      <td>8</td>\n",
       "      <td>0.000000</td>\n",
       "    </tr>\n",
       "  </tbody>\n",
       "</table>\n",
       "</div>"
      ],
      "text/plain": [
       "   spore-print-color     class\n",
       "0                  0  0.000000\n",
       "1                  1  0.971979\n",
       "2                  2  0.124611\n",
       "3                  3  0.110635\n",
       "4                  4  0.000000\n",
       "5                  5  1.000000\n",
       "6                  6  0.000000\n",
       "7                  7  0.751486\n",
       "8                  8  0.000000"
      ]
     },
     "execution_count": 39,
     "metadata": {},
     "output_type": "execute_result"
    },
    {
     "data": {
      "image/png": "[encoded data removed]",
      "text/plain": [
       "<matplotlib.figure.Figure at 0x7f6aaa2d21d0>"
      ]
     },
     "metadata": {},
     "output_type": "display_data"
    }
   ],
   "source": [
    "arr=train_db['spore-print-color'].unique()\n",
    "x = []\n",
    "arr.sort()\n",
    "for var in arr:\n",
    "    z = train_db[train_db['spore-print-color']==var]\n",
    "    y = z['class'].mean()\n",
    "    x.append(y)\n",
    "\n",
    "plot = sns.barplot(arr, x)\n",
    "train_db[['spore-print-color', 'class']].groupby(['spore-print-color'], as_index=False).mean()"
   ]
  },
  {
   "cell_type": "code",
   "execution_count": 40,
   "metadata": {},
   "outputs": [
    {
     "data": {
      "text/html": [
       "<div>\n",
       "<style>\n",
       "    .dataframe thead tr:only-child th {\n",
       "        text-align: right;\n",
       "    }\n",
       "\n",
       "    .dataframe thead th {\n",
       "        text-align: left;\n",
       "    }\n",
       "\n",
       "    .dataframe tbody tr th {\n",
       "        vertical-align: top;\n",
       "    }\n",
       "</style>\n",
       "<table border=\"1\" class=\"dataframe\">\n",
       "  <thead>\n",
       "    <tr style=\"text-align: right;\">\n",
       "      <th></th>\n",
       "      <th>population</th>\n",
       "      <th>class</th>\n",
       "    </tr>\n",
       "  </thead>\n",
       "  <tbody>\n",
       "    <tr>\n",
       "      <th>0</th>\n",
       "      <td>0</td>\n",
       "      <td>0.000000</td>\n",
       "    </tr>\n",
       "    <tr>\n",
       "      <th>1</th>\n",
       "      <td>1</td>\n",
       "      <td>0.165289</td>\n",
       "    </tr>\n",
       "    <tr>\n",
       "      <th>2</th>\n",
       "      <td>2</td>\n",
       "      <td>0.000000</td>\n",
       "    </tr>\n",
       "    <tr>\n",
       "      <th>3</th>\n",
       "      <td>3</td>\n",
       "      <td>0.297605</td>\n",
       "    </tr>\n",
       "    <tr>\n",
       "      <th>4</th>\n",
       "      <td>4</td>\n",
       "      <td>0.701137</td>\n",
       "    </tr>\n",
       "    <tr>\n",
       "      <th>5</th>\n",
       "      <td>5</td>\n",
       "      <td>0.383101</td>\n",
       "    </tr>\n",
       "  </tbody>\n",
       "</table>\n",
       "</div>"
      ],
      "text/plain": [
       "   population     class\n",
       "0           0  0.000000\n",
       "1           1  0.165289\n",
       "2           2  0.000000\n",
       "3           3  0.297605\n",
       "4           4  0.701137\n",
       "5           5  0.383101"
      ]
     },
     "execution_count": 40,
     "metadata": {},
     "output_type": "execute_result"
    },
    {
     "data": {
      "image/png": "[encoded data removed]",
      "text/plain": [
       "<matplotlib.figure.Figure at 0x7f6aaa28eb50>"
      ]
     },
     "metadata": {},
     "output_type": "display_data"
    }
   ],
   "source": [
    "arr=train_db['population'].unique()\n",
    "x = []\n",
    "arr.sort()\n",
    "for var in arr:\n",
    "    z = train_db[train_db['population']==var]\n",
    "    y = z['class'].mean()\n",
    "    x.append(y)\n",
    "\n",
    "plot = sns.barplot(arr, x)\n",
    "train_db[['population', 'class']].groupby(['population'], as_index=False).mean()"
   ]
  },
  {
   "cell_type": "code",
   "execution_count": 41,
   "metadata": {},
   "outputs": [
    {
     "data": {
      "text/html": [
       "<div>\n",
       "<style>\n",
       "    .dataframe thead tr:only-child th {\n",
       "        text-align: right;\n",
       "    }\n",
       "\n",
       "    .dataframe thead th {\n",
       "        text-align: left;\n",
       "    }\n",
       "\n",
       "    .dataframe tbody tr th {\n",
       "        vertical-align: top;\n",
       "    }\n",
       "</style>\n",
       "<table border=\"1\" class=\"dataframe\">\n",
       "  <thead>\n",
       "    <tr style=\"text-align: right;\">\n",
       "      <th></th>\n",
       "      <th>habitat</th>\n",
       "      <th>class</th>\n",
       "    </tr>\n",
       "  </thead>\n",
       "  <tbody>\n",
       "    <tr>\n",
       "      <th>0</th>\n",
       "      <td>0</td>\n",
       "      <td>0.399192</td>\n",
       "    </tr>\n",
       "    <tr>\n",
       "      <th>1</th>\n",
       "      <td>1</td>\n",
       "      <td>0.350000</td>\n",
       "    </tr>\n",
       "    <tr>\n",
       "      <th>2</th>\n",
       "      <td>2</td>\n",
       "      <td>0.725352</td>\n",
       "    </tr>\n",
       "    <tr>\n",
       "      <th>3</th>\n",
       "      <td>3</td>\n",
       "      <td>0.116162</td>\n",
       "    </tr>\n",
       "    <tr>\n",
       "      <th>4</th>\n",
       "      <td>4</td>\n",
       "      <td>0.880952</td>\n",
       "    </tr>\n",
       "    <tr>\n",
       "      <th>5</th>\n",
       "      <td>5</td>\n",
       "      <td>0.738281</td>\n",
       "    </tr>\n",
       "    <tr>\n",
       "      <th>6</th>\n",
       "      <td>6</td>\n",
       "      <td>0.000000</td>\n",
       "    </tr>\n",
       "  </tbody>\n",
       "</table>\n",
       "</div>"
      ],
      "text/plain": [
       "   habitat     class\n",
       "0        0  0.399192\n",
       "1        1  0.350000\n",
       "2        2  0.725352\n",
       "3        3  0.116162\n",
       "4        4  0.880952\n",
       "5        5  0.738281\n",
       "6        6  0.000000"
      ]
     },
     "execution_count": 41,
     "metadata": {},
     "output_type": "execute_result"
    },
    {
     "data": {
      "image/png": "[encoded data removed]",
      "text/plain": [
       "<matplotlib.figure.Figure at 0x7f6aabcc8d10>"
      ]
     },
     "metadata": {},
     "output_type": "display_data"
    }
   ],
   "source": [
    "arr=train_db['habitat'].unique()\n",
    "x = []\n",
    "arr.sort()\n",
    "for var in arr:\n",
    "    z = train_db[train_db['habitat']==var]\n",
    "    y = z['class'].mean()\n",
    "    x.append(y)\n",
    "\n",
    "plot = sns.barplot(arr, x)\n",
    "train_db[['habitat', 'class']].groupby(['habitat'], as_index=False).mean()"
   ]
  },
  {
   "cell_type": "markdown",
   "metadata": {},
   "source": [
    "    Drawing boxplots for various features"
   ]
  },
  {
   "cell_type": "code",
   "execution_count": 42,
   "metadata": {
    "scrolled": false
   },
   "outputs": [
    {
     "data": {
      "image/png": "[encoded data removed]",
      "text/plain": [
       "<matplotlib.figure.Figure at 0x7f6aa9ebd390>"
      ]
     },
     "metadata": {},
     "output_type": "display_data"
    },
    {
     "data": {
      "image/png": "[encoded data removed]",
      "text/plain": [
       "<matplotlib.figure.Figure at 0x7f6aabe59ed0>"
      ]
     },
     "metadata": {},
     "output_type": "display_data"
    },
    {
     "data": {
      "image/png": "[encoded data removed]",
      "text/plain": [
       "<matplotlib.figure.Figure at 0x7f6aaa35f7d0>"
      ]
     },
     "metadata": {},
     "output_type": "display_data"
    },
    {
     "data": {
      "image/png": "[encoded data removed]",
      "text/plain": [
       "<matplotlib.figure.Figure at 0x7f6aa9f10d50>"
      ]
     },
     "metadata": {},
     "output_type": "display_data"
    },
    {
     "data": {
      "image/png": "[encoded data removed]",
      "text/plain": [
       "<matplotlib.figure.Figure at 0x7f6aaa23a450>"
      ]
     },
     "metadata": {},
     "output_type": "display_data"
    },
    {
     "data": {
      "image/png": "[encoded data removed]",
      "text/plain": [
       "<matplotlib.figure.Figure at 0x7f6aa9dda590>"
      ]
     },
     "metadata": {},
     "output_type": "display_data"
    },
    {
     "data": {
      "image/png": "[encoded data removed]",
      "text/plain": [
       "<matplotlib.figure.Figure at 0x7f6aa9fb1ad0>"
      ]
     },
     "metadata": {},
     "output_type": "display_data"
    },
    {
     "data": {
      "image/png": "[encoded data removed]",
      "text/plain": [
       "<matplotlib.figure.Figure at 0x7f6aa9e398d0>"
      ]
     },
     "metadata": {},
     "output_type": "display_data"
    },
    {
     "data": {
      "image/png": "[encoded data removed]",
      "text/plain": [
       "<matplotlib.figure.Figure at 0x7f6aaa05da90>"
      ]
     },
     "metadata": {},
     "output_type": "display_data"
    },
    {
     "data": {
      "image/png": "[encoded data removed]",
      "text/plain": [
       "<matplotlib.figure.Figure at 0x7f6aabe68550>"
      ]
     },
     "metadata": {},
     "output_type": "display_data"
    },
    {
     "data": {
      "image/png": "[encoded data removed]",
      "text/plain": [
       "<matplotlib.figure.Figure at 0x7f6aabdc9c10>"
      ]
     },
     "metadata": {},
     "output_type": "display_data"
    },
    {
     "data": {
      "image/png": "[encoded data removed]",
      "text/plain": [
       "<matplotlib.figure.Figure at 0x7f6aaa285f90>"
      ]
     },
     "metadata": {},
     "output_type": "display_data"
    },
    {
     "data": {
      "image/png": "[encoded data removed]",
      "text/plain": [
       "<matplotlib.figure.Figure at 0x7f6aabdea5d0>"
      ]
     },
     "metadata": {},
     "output_type": "display_data"
    },
    {
     "data": {
      "image/png": "[encoded data removed]",
      "text/plain": [
       "<matplotlib.figure.Figure at 0x7f6aabd94c90>"
      ]
     },
     "metadata": {},
     "output_type": "display_data"
    },
    {
     "data": {
      "image/png": "[encoded data removed]",
      "text/plain": [
       "<matplotlib.figure.Figure at 0x7f6aaa11b190>"
      ]
     },
     "metadata": {},
     "output_type": "display_data"
    },
    {
     "data": {
      "image/png": "[encoded data removed]",
      "text/plain": [
       "<matplotlib.figure.Figure at 0x7f6aa9cc7890>"
      ]
     },
     "metadata": {},
     "output_type": "display_data"
    },
    {
     "data": {
      "image/png": "[encoded data removed]",
      "text/plain": [
       "<matplotlib.figure.Figure at 0x7f6aaa09ee90>"
      ]
     },
     "metadata": {},
     "output_type": "display_data"
    },
    {
     "data": {
      "image/png": "[encoded data removed]",
      "text/plain": [
       "<matplotlib.figure.Figure at 0x7f6aa9c73c90>"
      ]
     },
     "metadata": {},
     "output_type": "display_data"
    },
    {
     "data": {
      "image/png": "[encoded data removed]",
      "text/plain": [
       "<matplotlib.figure.Figure at 0x7f6aa9c8f5d0>"
      ]
     },
     "metadata": {},
     "output_type": "display_data"
    },
    {
     "data": {
      "image/png": "[encoded data removed]",
      "text/plain": [
       "<matplotlib.figure.Figure at 0x7f6aabdbb7d0>"
      ]
     },
     "metadata": {},
     "output_type": "display_data"
    },
    {
     "data": {
      "image/png": "[encoded data removed]",
      "text/plain": [
       "<matplotlib.figure.Figure at 0x7f6aabcfaf50>"
      ]
     },
     "metadata": {},
     "output_type": "display_data"
    },
    {
     "data": {
      "image/png": "[encoded data removed]",
      "text/plain": [
       "<matplotlib.figure.Figure at 0x7f6ab3c3b410>"
      ]
     },
     "metadata": {},
     "output_type": "display_data"
    }
   ],
   "source": [
    "for catvar in categorical_variables:\n",
    "    #plt.figure(figsize=(4,4))\n",
    "    sns.boxplot(train_db['class'], train_db[catvar])\n",
    "    plt.show()"
   ]
  },
  {
   "cell_type": "markdown",
   "metadata": {},
   "source": [
    "    Graph of variation of radius in class 0 and 1 i.e. Poisonous and Edible respectively"
   ]
  },
  {
   "cell_type": "code",
   "execution_count": 43,
   "metadata": {
    "scrolled": true
   },
   "outputs": [
    {
     "data": {
      "text/plain": [
       "<seaborn.axisgrid.FacetGrid at 0x7f6aaa339ad0>"
      ]
     },
     "execution_count": 43,
     "metadata": {},
     "output_type": "execute_result"
    },
    {
     "data": {
      "image/png": "[encoded data removed]",
      "text/plain": [
       "<matplotlib.figure.Figure at 0x7f6aaa0bf590>"
      ]
     },
     "metadata": {},
     "output_type": "display_data"
    }
   ],
   "source": [
    "g = sns.FacetGrid(train_db, col='class')\n",
    "g.map(plt.hist, 'radius', bins=200)"
   ]
  },
  {
   "cell_type": "code",
   "execution_count": 44,
   "metadata": {},
   "outputs": [
    {
     "data": {
      "text/plain": [
       "<matplotlib.axes._subplots.AxesSubplot at 0x7f6aaa3de4d0>"
      ]
     },
     "execution_count": 44,
     "metadata": {},
     "output_type": "execute_result"
    },
    {
     "data": {
      "image/png": "[encoded data removed]",
      "text/plain": [
       "<matplotlib.figure.Figure at 0x7f6aa9c4cb90>"
      ]
     },
     "metadata": {},
     "output_type": "display_data"
    }
   ],
   "source": [
    "sns.boxplot(train_db['class'],train_db['radius'])"
   ]
  },
  {
   "cell_type": "code",
   "execution_count": 45,
   "metadata": {},
   "outputs": [
    {
     "data": {
      "text/plain": [
       "<seaborn.axisgrid.FacetGrid at 0x7f6aa9bff6d0>"
      ]
     },
     "execution_count": 45,
     "metadata": {},
     "output_type": "execute_result"
    },
    {
     "data": {
      "image/png": "[encoded data removed]",
      "text/plain": [
       "<matplotlib.figure.Figure at 0x7f6aa9bffc90>"
      ]
     },
     "metadata": {},
     "output_type": "display_data"
    }
   ],
   "source": [
    "g = sns.FacetGrid(train_db, col='class')\n",
    "g.map(plt.hist, 'weight', bins=20)"
   ]
  },
  {
   "cell_type": "code",
   "execution_count": 46,
   "metadata": {},
   "outputs": [
    {
     "data": {
      "text/plain": [
       "<matplotlib.axes._subplots.AxesSubplot at 0x7f6aa997cf10>"
      ]
     },
     "execution_count": 46,
     "metadata": {},
     "output_type": "execute_result"
    },
    {
     "data": {
      "image/png": "[encoded data removed]",
      "text/plain": [
       "<matplotlib.figure.Figure at 0x7f6aa98cf390>"
      ]
     },
     "metadata": {},
     "output_type": "display_data"
    }
   ],
   "source": [
    "sns.boxplot(train_db['class'], train_db['weight'])"
   ]
  },
  {
   "cell_type": "code",
   "execution_count": 47,
   "metadata": {},
   "outputs": [
    {
     "data": {
      "text/plain": [
       "<matplotlib.axes._subplots.AxesSubplot at 0x7f6aa98dbc10>"
      ]
     },
     "execution_count": 47,
     "metadata": {},
     "output_type": "execute_result"
    },
    {
     "data": {
      "image/png": "[encoded data removed]",
      "text/plain": [
       "<matplotlib.figure.Figure at 0x7f6aa9982cd0>"
      ]
     },
     "metadata": {},
     "output_type": "display_data"
    }
   ],
   "source": [
    "plt.figure(figsize=(12,10))\n",
    "sns.pointplot(x=\"cap-surface\", y=\"class\", hue=\"cap-shape\", data=train_db ,dodge=True,)"
   ]
  },
  {
   "cell_type": "code",
   "execution_count": 48,
   "metadata": {
    "collapsed": true
   },
   "outputs": [],
   "source": [
    "X = train_db.drop('class', axis=1)\n",
    "Y = train_db['class']"
   ]
  },
  {
   "cell_type": "code",
   "execution_count": 49,
   "metadata": {},
   "outputs": [
    {
     "name": "stderr",
     "output_type": "stream",
     "text": [
      "/home/goyal/anaconda2/lib/python2.7/site-packages/sklearn/cross_validation.py:41: DeprecationWarning: This module was deprecated in version 0.18 in favor of the model_selection module into which all the refactored classes and functions are moved. Also note that the interface of the new CV iterators are different from that of this module. This module will be removed in 0.20.\n",
      "  \"This module will be removed in 0.20.\", DeprecationWarning)\n"
     ]
    }
   ],
   "source": [
    "from sklearn.cross_validation import train_test_split\n",
    "from sklearn.metrics import accuracy_score\n",
    "from sklearn.cross_validation import cross_val_score\n",
    "from sklearn.metrics import  roc_curve, auc, roc_auc_score\n",
    "from sklearn.metrics import  confusion_matrix, r2_score"
   ]
  },
  {
   "cell_type": "markdown",
   "metadata": {},
   "source": [
    "    Splitting the train data in two parts for train and test "
   ]
  },
  {
   "cell_type": "code",
   "execution_count": 50,
   "metadata": {
    "collapsed": true
   },
   "outputs": [],
   "source": [
    "x_train,x_test,y_train,y_test=train_test_split(X,Y, test_size=0.33)"
   ]
  },
  {
   "cell_type": "markdown",
   "metadata": {},
   "source": [
    "###  KNN classifier "
   ]
  },
  {
   "cell_type": "markdown",
   "metadata": {},
   "source": [
    "##### cross validation on KNN classification"
   ]
  },
  {
   "cell_type": "code",
   "execution_count": 51,
   "metadata": {
    "collapsed": true
   },
   "outputs": [],
   "source": [
    "from sklearn.neighbors import KNeighborsClassifier\n",
    "my_list = range(1,50)\n",
    "neighbors = filter(lambda x: x%2 != 0 , my_list)\n",
    "cv_scores = []\n",
    "for k in neighbors:\n",
    "    knn = KNeighborsClassifier(n_neighbors = k )\n",
    "    scores = cross_val_score(knn, x_train, y_train, cv = 10, scoring='accuracy')\n",
    "    cv_scores.append(scores.mean())"
   ]
  },
  {
   "cell_type": "code",
   "execution_count": 52,
   "metadata": {},
   "outputs": [
    {
     "name": "stdout",
     "output_type": "stream",
     "text": [
      "so maximum accuracy is when the value of k is in KNN classifier in: 1 \n"
     ]
    }
   ],
   "source": [
    "neighbor = np.argmax(cv_scores)*2+1\n",
    "print \"so maximum accuracy is when the value of k is in KNN classifier in: %d \" %neighbor"
   ]
  },
  {
   "cell_type": "code",
   "execution_count": 53,
   "metadata": {},
   "outputs": [
    {
     "name": "stdout",
     "output_type": "stream",
     "text": [
      "0.835375599361\n"
     ]
    }
   ],
   "source": [
    "knn = KNeighborsClassifier(n_neighbors=1)\n",
    "knn_model = knn.fit(x_train,y_train)\n",
    "knn_predict = knn_model.predict(x_test)\n",
    "knn_accuracy = accuracy_score(knn_predict, y_test)\n",
    "print knn_accuracy"
   ]
  },
  {
   "cell_type": "code",
   "execution_count": 54,
   "metadata": {
    "collapsed": true
   },
   "outputs": [],
   "source": [
    "import itertools\n",
    "def plot_confusion_matrix(cm, classes,\n",
    "                          normalize=False,\n",
    "                          title='Confusion matrix',\n",
    "                          cmap=plt.cm.Blues):\n",
    "    if normalize:\n",
    "        cm = cm.astype('float') / cm.sum(axis=1)[:, np.newaxis]\n",
    "\n",
    "    print(cm)\n",
    "\n",
    "    plt.imshow(cm, interpolation='nearest', cmap=cmap)\n",
    "    plt.title(title)\n",
    "    plt.colorbar()\n",
    "    tick_marks = np.arange(len(classes))\n",
    "    plt.xticks(tick_marks, classes, rotation=45)\n",
    "    plt.yticks(tick_marks, classes)\n",
    "\n",
    "    fmt = '.2f' if normalize else 'd'\n",
    "    thresh = cm.max() / 2.\n",
    "    for i, j in itertools.product(range(cm.shape[0]), range(cm.shape[1])):\n",
    "        plt.text(j, i, format(cm[i, j], fmt),\n",
    "                 horizontalalignment=\"center\",\n",
    "                 color=\"white\" if cm[i, j] > thresh else \"black\")\n",
    "\n",
    "    plt.tight_layout()\n",
    "    plt.ylabel('True label')\n",
    "    plt.xlabel('Predicted label')"
   ]
  },
  {
   "cell_type": "code",
   "execution_count": 55,
   "metadata": {},
   "outputs": [
    {
     "name": "stdout",
     "output_type": "stream",
     "text": [
      "[[862 119]\n",
      " [190 706]]\n"
     ]
    }
   ],
   "source": [
    "print confusion_matrix(y_test, knn_predict)"
   ]
  },
  {
   "cell_type": "code",
   "execution_count": 56,
   "metadata": {},
   "outputs": [
    {
     "name": "stdout",
     "output_type": "stream",
     "text": [
      "[[862 119]\n",
      " [190 706]]\n"
     ]
    },
    {
     "data": {
      "image/png": "[encoded data removed]",
      "text/plain": [
       "<matplotlib.figure.Figure at 0x7f6aa9c9a990>"
      ]
     },
     "metadata": {},
     "output_type": "display_data"
    }
   ],
   "source": [
    "cnf_matrix = confusion_matrix(y_test, knn_predict)\n",
    "np.set_printoptions(precision=2)\n",
    "plt.figure()\n",
    "plot_confusion_matrix(cnf_matrix,classes=['0','1'] , title='Confusion matrix')\n",
    "plt.show()"
   ]
  },
  {
   "cell_type": "markdown",
   "metadata": {},
   "source": [
    "#### Area Under ROC Curve\n"
   ]
  },
  {
   "cell_type": "code",
   "execution_count": 57,
   "metadata": {},
   "outputs": [
    {
     "name": "stdout",
     "output_type": "stream",
     "text": [
      "Area under ROC Curve(AUROC) is 0.833320818771: \n"
     ]
    }
   ],
   "source": [
    "FPR, TPR, Threshold = roc_curve(y_test, knn_predict)\n",
    "area_under_roc = auc(FPR, TPR)\n",
    "print \"Area under ROC Curve(AUROC) is %s: \" % area_under_roc"
   ]
  },
  {
   "cell_type": "markdown",
   "metadata": {},
   "source": [
    "    From KNN classifier we get accuracy of 0.840703249867 which is not good enough so apply another model Logistic regression in hope to increase the model accuracy"
   ]
  },
  {
   "cell_type": "markdown",
   "metadata": {},
   "source": [
    "### Logistic Regression"
   ]
  },
  {
   "cell_type": "code",
   "execution_count": 58,
   "metadata": {},
   "outputs": [
    {
     "name": "stdout",
     "output_type": "stream",
     "text": [
      "0.948321790091\n"
     ]
    }
   ],
   "source": [
    "from sklearn.linear_model import LogisticRegression\n",
    "logistic_reg = LogisticRegression()\n",
    "logistic_model = logistic_reg.fit(x_train,y_train)\n",
    "logistic_predict = logistic_model.predict(x_test)\n",
    "logistic_accuracy= accuracy_score(logistic_predict, y_test)\n",
    "print logistic_accuracy"
   ]
  },
  {
   "cell_type": "markdown",
   "metadata": {},
   "source": [
    "    Yipee the accuracy is much better than the accuracy of KNN classifier i.e. around 15% more \n",
    "    one of the reason behind it is that there are too much features in the data set so because of that KNN model does not perform well on this model \n",
    "    but we should always try other model to check their performance on the dataset "
   ]
  },
  {
   "cell_type": "code",
   "execution_count": 59,
   "metadata": {},
   "outputs": [
    {
     "name": "stdout",
     "output_type": "stream",
     "text": [
      "[[ -8.86e-02   4.97e-01  -3.17e-02  -5.83e-01  -3.68e-01  -1.40e+00\n",
      "   -5.13e+00   6.60e+00  -1.00e-01  -6.49e-01  -1.80e+00   3.45e-04\n",
      "   -3.63e+00  -3.54e-01  -9.04e-02  -3.57e-02   5.76e+00  -2.27e-03\n",
      "    3.03e-01   5.48e-01  -3.34e-01  -2.70e-01   3.55e-02]]\n"
     ]
    }
   ],
   "source": [
    "print logistic_model.coef_"
   ]
  },
  {
   "cell_type": "code",
   "execution_count": 60,
   "metadata": {},
   "outputs": [
    {
     "name": "stdout",
     "output_type": "stream",
     "text": [
      "[[942  39]\n",
      " [ 58 838]]\n",
      "R-Square for logistic regression is 0.79286237622\n"
     ]
    }
   ],
   "source": [
    "print confusion_matrix(y_test, logistic_predict)\n",
    "print \"R-Square for logistic regression is %s\" %r2_score(y_test, logistic_predict) "
   ]
  },
  {
   "cell_type": "code",
   "execution_count": 61,
   "metadata": {},
   "outputs": [
    {
     "name": "stdout",
     "output_type": "stream",
     "text": [
      "[[942  39]\n",
      " [ 58 838]]\n"
     ]
    },
    {
     "data": {
      "image/png": "[encoded data removed]",
      "text/plain": [
       "<matplotlib.figure.Figure at 0x7f6aa977f450>"
      ]
     },
     "metadata": {},
     "output_type": "display_data"
    }
   ],
   "source": [
    "cnf_matrix = confusion_matrix(y_test, logistic_predict)\n",
    "np.set_printoptions(precision=2)\n",
    "plt.figure()\n",
    "plot_confusion_matrix(cnf_matrix,classes=['0','1'] , title='Confusion matrix')\n",
    "plt.show()"
   ]
  },
  {
   "cell_type": "code",
   "execution_count": 62,
   "metadata": {},
   "outputs": [
    {
     "name": "stdout",
     "output_type": "stream",
     "text": [
      "Area under ROC Curve(AUC) is : 0.94775625273\n"
     ]
    }
   ],
   "source": [
    "FPR, TPR, Threshold = roc_curve(y_test, logistic_predict)\n",
    "area_under_roc = auc(FPR, TPR)\n",
    "print \"Area under ROC Curve(AUC) is : %s\" %area_under_roc"
   ]
  },
  {
   "cell_type": "code",
   "execution_count": 63,
   "metadata": {},
   "outputs": [
    {
     "data": {
      "text/plain": [
       "<matplotlib.text.Text at 0x7f6aa2848590>"
      ]
     },
     "execution_count": 63,
     "metadata": {},
     "output_type": "execute_result"
    },
    {
     "data": {
      "image/png": "[encoded data removed]",
      "text/plain": [
       "<matplotlib.figure.Figure at 0x7f6aa291c3d0>"
      ]
     },
     "metadata": {},
     "output_type": "display_data"
    }
   ],
   "source": [
    "plt.title('Receiver Operating Characteristic')\n",
    "plt.plot(FPR,TPR)\n",
    "plt.plot([0, 1], [0, 1],linestyle='--')\n",
    "plt.xlabel('FPR')\n",
    "plt.ylabel('TPR')"
   ]
  },
  {
   "cell_type": "markdown",
   "metadata": {},
   "source": [
    "### Decision Tree Classifier"
   ]
  },
  {
   "cell_type": "code",
   "execution_count": 64,
   "metadata": {
    "collapsed": true
   },
   "outputs": [],
   "source": [
    "from sklearn.tree import DecisionTreeClassifier\n",
    "from sklearn import tree"
   ]
  },
  {
   "cell_type": "markdown",
   "metadata": {},
   "source": [
    "##### Cross-Validation on Decision Tree classifier"
   ]
  },
  {
   "cell_type": "code",
   "execution_count": 65,
   "metadata": {},
   "outputs": [
    {
     "name": "stdout",
     "output_type": "stream",
     "text": [
      "[(5, 1, 0.97872969567836809), (5, 2, 0.97872969567836809), (5, 3, 0.97872969567836809), (6, 1, 0.99895012761734903), (6, 2, 0.99895012761734903), (6, 3, 0.99895012761734903), (7, 1, 1.0), (7, 2, 1.0), (7, 3, 0.99947506561679789), (8, 1, 1.0), (8, 2, 1.0), (8, 3, 0.99947506561679789), (9, 1, 1.0), (9, 2, 1.0), (9, 3, 0.99947506561679789)]\n"
     ]
    }
   ],
   "source": [
    "depth=[]\n",
    "for i in range(5,10):\n",
    "    for j in range (1,4):\n",
    "        decision_tree_gini_model = DecisionTreeClassifier(criterion = \"gini\", random_state = 42,max_depth=i, min_samples_leaf=j)\n",
    "        scores = cross_val_score(decision_tree_gini_model, x_train, y_train, cv = 10, scoring='accuracy')\n",
    "        depth.append((i,j,scores.mean()))\n",
    "print depth"
   ]
  },
  {
   "cell_type": "markdown",
   "metadata": {},
   "source": [
    "    Maximum score of cross-validation is when i = 8 anf j = 3 \n",
    "    i.e max_depth = 8 and min_samples_leaf = 3"
   ]
  },
  {
   "cell_type": "code",
   "execution_count": 66,
   "metadata": {},
   "outputs": [
    {
     "name": "stdout",
     "output_type": "stream",
     "text": [
      "1.0\n"
     ]
    }
   ],
   "source": [
    "decision_tree_gini_model = DecisionTreeClassifier(criterion = \"gini\", random_state = 42,max_depth=7, min_samples_leaf=1)\n",
    "decision_tree_gini_model.fit(x_train, y_train)\n",
    "decision_tree_gini_predict = decision_tree_gini_model.predict(x_test)\n",
    "decision_tree_gini_accuracy = accuracy_score(decision_tree_gini_predict, y_test)\n",
    "print decision_tree_gini_accuracy"
   ]
  },
  {
   "cell_type": "code",
   "execution_count": 67,
   "metadata": {},
   "outputs": [
    {
     "name": "stdout",
     "output_type": "stream",
     "text": [
      "[[981   0]\n",
      " [  0 896]]\n"
     ]
    }
   ],
   "source": [
    "print confusion_matrix(y_test, decision_tree_gini_predict)"
   ]
  },
  {
   "cell_type": "code",
   "execution_count": 68,
   "metadata": {},
   "outputs": [
    {
     "name": "stdout",
     "output_type": "stream",
     "text": [
      "[[981   0]\n",
      " [  0 896]]\n"
     ]
    },
    {
     "data": {
      "image/png": "[encoded data removed]",
      "text/plain": [
       "<matplotlib.figure.Figure at 0x7f6aa27ba3d0>"
      ]
     },
     "metadata": {},
     "output_type": "display_data"
    }
   ],
   "source": [
    "cnf_matrix = confusion_matrix(y_test, decision_tree_gini_predict)\n",
    "np.set_printoptions(precision=2)\n",
    "plt.figure()\n",
    "plot_confusion_matrix(cnf_matrix,classes=['0','1'] , title='Confusion matrix')\n",
    "plt.show()"
   ]
  },
  {
   "cell_type": "code",
   "execution_count": 69,
   "metadata": {},
   "outputs": [
    {
     "name": "stdout",
     "output_type": "stream",
     "text": [
      "Area under ROC Curve(AUC) is : 1.0\n"
     ]
    }
   ],
   "source": [
    "area_under_roc=roc_auc_score(y_test,decision_tree_gini_predict)\n",
    "print \"Area under ROC Curve(AUC) is : %s\" %area_under_roc"
   ]
  },
  {
   "cell_type": "markdown",
   "metadata": {},
   "source": [
    "### Random Forest"
   ]
  },
  {
   "cell_type": "code",
   "execution_count": 70,
   "metadata": {},
   "outputs": [
    {
     "name": "stdout",
     "output_type": "stream",
     "text": [
      "1.0\n"
     ]
    }
   ],
   "source": [
    "from sklearn.ensemble import RandomForestClassifier\n",
    "random_forest_classifier_model = RandomForestClassifier()\n",
    "random_forest_classifier_model.fit(x_train, y_train)\n",
    "random_forest_classifier_predict = random_forest_classifier_model.predict(x_test)\n",
    "random_forest_classifier_accuracy = accuracy_score(random_forest_classifier_predict, y_test)\n",
    "print random_forest_classifier_accuracy"
   ]
  },
  {
   "cell_type": "code",
   "execution_count": 71,
   "metadata": {},
   "outputs": [
    {
     "name": "stdout",
     "output_type": "stream",
     "text": [
      "[ 0.    0.01  0.01  0.12  0.12  0.01  0.09  0.15  0.02  0.01  0.04  0.\n",
      "  0.01  0.1   0.03  0.03  0.01  0.    0.01  0.04  0.1   0.06  0.02]\n"
     ]
    }
   ],
   "source": [
    "random_forest_model_important_feature = random_forest_classifier_model.feature_importances_\n",
    "print random_forest_model_important_feature"
   ]
  },
  {
   "cell_type": "code",
   "execution_count": 72,
   "metadata": {},
   "outputs": [
    {
     "name": "stdout",
     "output_type": "stream",
     "text": [
      "('class', '=', 0.0022883262002395596)\n",
      "('cap-shape', '=', 0.0061750369705143538)\n",
      "('cap-surface', '=', 0.0064622250317200435)\n",
      "('cap-color', '=', 0.12208500285949846)\n",
      "('bruises', '=', 0.12390412626631067)\n",
      "('odor', '=', 0.0051169711118965958)\n",
      "('gill-attachment', '=', 0.094838137724316554)\n",
      "('gill-spacing', '=', 0.15180204767806307)\n",
      "('gill-size', '=', 0.02384042318591777)\n",
      "('gill-color', '=', 0.010444829730878735)\n",
      "('stalk-shape', '=', 0.036255144261089098)\n",
      "('stalk-root', '=', 0.0020379573122774539)\n",
      "('radius', '=', 0.010131875236524323)\n",
      "('stalk-surface-above-ring', '=', 0.10096093226872464)\n",
      "('stalk-surface-below-ring', '=', 0.027370889319682429)\n",
      "('stalk-color-above-ring', '=', 0.028302362338266673)\n",
      "('stalk-color-below-ring', '=', 0.0070125459209787189)\n",
      "('veil-color', '=', 0.0006310663229516536)\n",
      "('weight', '=', 0.010658559052949077)\n",
      "('ring-number', '=', 0.038976858626623853)\n",
      "('ring-type', '=', 0.10432692953282612)\n",
      "('spore-print-color', '=', 0.064296349121510929)\n",
      "('population', '=', 0.022081403926239213)\n"
     ]
    }
   ],
   "source": [
    "for name, importance in zip(train_db.columns.values , random_forest_classifier_model.feature_importances_):\n",
    "    print(name, \"=\", importance)"
   ]
  },
  {
   "cell_type": "markdown",
   "metadata": {},
   "source": [
    "### Feature importance plot "
   ]
  },
  {
   "cell_type": "code",
   "execution_count": 73,
   "metadata": {},
   "outputs": [
    {
     "data": {
      "image/png": "[encoded data removed]",
      "text/plain": [
       "<matplotlib.figure.Figure at 0x7f6aa16eec50>"
      ]
     },
     "metadata": {},
     "output_type": "display_data"
    }
   ],
   "source": [
    "plt.figure(figsize=(12,10))\n",
    "features = train_db.columns.values\n",
    "importances = random_forest_classifier_model.feature_importances_\n",
    "indices = np.argsort(importances)\n",
    "plt.title('Feature Importances')\n",
    "plt.barh(range(len(indices)), importances[indices])\n",
    "plt.yticks(range(len(indices)), features)\n",
    "plt.xlabel('Relative Importance')\n",
    "plt.show()"
   ]
  },
  {
   "cell_type": "markdown",
   "metadata": {},
   "source": [
    "### AdaBoosting\n"
   ]
  },
  {
   "cell_type": "code",
   "execution_count": 74,
   "metadata": {},
   "outputs": [
    {
     "name": "stdout",
     "output_type": "stream",
     "text": [
      "1.0\n"
     ]
    }
   ],
   "source": [
    "from sklearn.ensemble import AdaBoostClassifier\n",
    "#from sklearn.ensemble import AdaBoostRegressor\n",
    "decision_tree_classifier = DecisionTreeClassifier()\n",
    "AdaBoost_classfier_model = AdaBoostClassifier(base_estimator=decision_tree_classifier,learning_rate=1)\n",
    "AdaBoost_classfier_model.fit(x_train,y_train)\n",
    "AdaBoost_classfier_predict = AdaBoost_classfier_model.predict(x_test)\n",
    "AdaBoost_classfier_accuracy = accuracy_score(AdaBoost_classfier_predict, y_test)\n",
    "print AdaBoost_classfier_accuracy"
   ]
  },
  {
   "cell_type": "code",
   "execution_count": 75,
   "metadata": {},
   "outputs": [
    {
     "name": "stdout",
     "output_type": "stream",
     "text": [
      "[[981   0]\n",
      " [  0 896]]\n"
     ]
    }
   ],
   "source": [
    "print confusion_matrix(y_test, AdaBoost_classfier_predict)"
   ]
  },
  {
   "cell_type": "code",
   "execution_count": 76,
   "metadata": {},
   "outputs": [
    {
     "name": "stdout",
     "output_type": "stream",
     "text": [
      "[[981   0]\n",
      " [  0 896]]\n"
     ]
    },
    {
     "data": {
      "image/png": "[encoded data removed]",
      "text/plain": [
       "<matplotlib.figure.Figure at 0x7f6aa16f4250>"
      ]
     },
     "metadata": {},
     "output_type": "display_data"
    }
   ],
   "source": [
    "cnf_matrix = confusion_matrix(y_test, AdaBoost_classfier_predict)\n",
    "np.set_printoptions(precision=2)\n",
    "plt.figure()\n",
    "plot_confusion_matrix(cnf_matrix,classes=['0','1'] , title='Confusion matrix')\n",
    "plt.show()"
   ]
  },
  {
   "cell_type": "code",
   "execution_count": 77,
   "metadata": {},
   "outputs": [
    {
     "name": "stdout",
     "output_type": "stream",
     "text": [
      "Area under ROC Curve(AUC) is : 1.0\n"
     ]
    }
   ],
   "source": [
    "area_under_roc=roc_auc_score(y_test,AdaBoost_classfier_predict)\n",
    "print \"Area under ROC Curve(AUC) is : %s\" %area_under_roc"
   ]
  },
  {
   "cell_type": "markdown",
   "metadata": {},
   "source": [
    "### Gradient Boosting "
   ]
  },
  {
   "cell_type": "code",
   "execution_count": 78,
   "metadata": {},
   "outputs": [
    {
     "name": "stdout",
     "output_type": "stream",
     "text": [
      "1.0\n"
     ]
    }
   ],
   "source": [
    "from sklearn.ensemble import GradientBoostingClassifier\n",
    "gradient_boosting_classifier_model = GradientBoostingClassifier()\n",
    "gradient_boosting_classifier_model.fit(x_train, y_train)\n",
    "gradient_boosting_classifier_predict = gradient_boosting_classifier_model.predict(x_test)\n",
    "gradient_boosting_classifier_accuracy=accuracy_score(gradient_boosting_classifier_predict, y_test)\n",
    "print gradient_boosting_classifier_accuracy"
   ]
  },
  {
   "cell_type": "code",
   "execution_count": 79,
   "metadata": {},
   "outputs": [
    {
     "name": "stdout",
     "output_type": "stream",
     "text": [
      "[[981   0]\n",
      " [  0 896]]\n"
     ]
    }
   ],
   "source": [
    "print confusion_matrix(y_test, gradient_boosting_classifier_predict)"
   ]
  },
  {
   "cell_type": "code",
   "execution_count": 80,
   "metadata": {},
   "outputs": [
    {
     "name": "stdout",
     "output_type": "stream",
     "text": [
      "[[981   0]\n",
      " [  0 896]]\n"
     ]
    },
    {
     "data": {
      "image/png": "[encoded data removed]",
      "text/plain": [
       "<matplotlib.figure.Figure at 0x7f6aaa27a590>"
      ]
     },
     "metadata": {},
     "output_type": "display_data"
    }
   ],
   "source": [
    "cnf_matrix = confusion_matrix(y_test, gradient_boosting_classifier_predict)\n",
    "np.set_printoptions(precision=2)\n",
    "plt.figure()\n",
    "plot_confusion_matrix(cnf_matrix,classes=['0','1'] , title='Confusion matrix')\n",
    "plt.show()"
   ]
  },
  {
   "cell_type": "code",
   "execution_count": 81,
   "metadata": {},
   "outputs": [
    {
     "name": "stdout",
     "output_type": "stream",
     "text": [
      "Area under ROC Curve(AUC) is : 1.0\n"
     ]
    }
   ],
   "source": [
    "area_under_roc=roc_auc_score(y_test,gradient_boosting_classifier_predict)\n",
    "print \"Area under ROC Curve(AUC) is : %s\" %area_under_roc"
   ]
  },
  {
   "cell_type": "code",
   "execution_count": 82,
   "metadata": {},
   "outputs": [
    {
     "data": {
      "text/html": [
       "<div>\n",
       "<style>\n",
       "    .dataframe thead tr:only-child th {\n",
       "        text-align: right;\n",
       "    }\n",
       "\n",
       "    .dataframe thead th {\n",
       "        text-align: left;\n",
       "    }\n",
       "\n",
       "    .dataframe tbody tr th {\n",
       "        vertical-align: top;\n",
       "    }\n",
       "</style>\n",
       "<table border=\"1\" class=\"dataframe\">\n",
       "  <thead>\n",
       "    <tr style=\"text-align: right;\">\n",
       "      <th></th>\n",
       "      <th>Model</th>\n",
       "      <th>Score</th>\n",
       "    </tr>\n",
       "  </thead>\n",
       "  <tbody>\n",
       "    <tr>\n",
       "      <th>0</th>\n",
       "      <td>KNN</td>\n",
       "      <td>0.835376</td>\n",
       "    </tr>\n",
       "    <tr>\n",
       "      <th>1</th>\n",
       "      <td>Logistic Regression</td>\n",
       "      <td>0.948322</td>\n",
       "    </tr>\n",
       "    <tr>\n",
       "      <th>2</th>\n",
       "      <td>Decision Tree</td>\n",
       "      <td>1.000000</td>\n",
       "    </tr>\n",
       "    <tr>\n",
       "      <th>3</th>\n",
       "      <td>Random Forest</td>\n",
       "      <td>1.000000</td>\n",
       "    </tr>\n",
       "    <tr>\n",
       "      <th>4</th>\n",
       "      <td>AdaBoost</td>\n",
       "      <td>1.000000</td>\n",
       "    </tr>\n",
       "    <tr>\n",
       "      <th>5</th>\n",
       "      <td>GradeintBoost</td>\n",
       "      <td>1.000000</td>\n",
       "    </tr>\n",
       "  </tbody>\n",
       "</table>\n",
       "</div>"
      ],
      "text/plain": [
       "                 Model     Score\n",
       "0                  KNN  0.835376\n",
       "1  Logistic Regression  0.948322\n",
       "2        Decision Tree  1.000000\n",
       "3        Random Forest  1.000000\n",
       "4             AdaBoost  1.000000\n",
       "5        GradeintBoost  1.000000"
      ]
     },
     "execution_count": 82,
     "metadata": {},
     "output_type": "execute_result"
    }
   ],
   "source": [
    "models_accuracy = pd.DataFrame({\n",
    "    'Model': ['KNN', 'Logistic Regression', \n",
    "              'Decision Tree','Random Forest','AdaBoost', 'GradeintBoost', ],\n",
    "    'Score': [knn_accuracy, logistic_accuracy, decision_tree_gini_accuracy,random_forest_classifier_accuracy, AdaBoost_classfier_accuracy, gradient_boosting_classifier_accuracy]})\n",
    "models_accuracy.sort_values(by='Score', ascending=True)"
   ]
  },
  {
   "cell_type": "markdown",
   "metadata": {},
   "source": [
    "#### Now using AdaBoosting predicting the test data set i.e. mushroom_test.csv"
   ]
  },
  {
   "cell_type": "code",
   "execution_count": 83,
   "metadata": {},
   "outputs": [
    {
     "data": {
      "text/html": [
       "<div>\n",
       "<style>\n",
       "    .dataframe thead tr:only-child th {\n",
       "        text-align: right;\n",
       "    }\n",
       "\n",
       "    .dataframe thead th {\n",
       "        text-align: left;\n",
       "    }\n",
       "\n",
       "    .dataframe tbody tr th {\n",
       "        vertical-align: top;\n",
       "    }\n",
       "</style>\n",
       "<table border=\"1\" class=\"dataframe\">\n",
       "  <thead>\n",
       "    <tr style=\"text-align: right;\">\n",
       "      <th></th>\n",
       "      <th>cap-shape</th>\n",
       "      <th>cap-surface</th>\n",
       "      <th>cap-color</th>\n",
       "      <th>bruises</th>\n",
       "      <th>odor</th>\n",
       "      <th>gill-attachment</th>\n",
       "      <th>gill-spacing</th>\n",
       "      <th>gill-size</th>\n",
       "      <th>gill-color</th>\n",
       "      <th>stalk-shape</th>\n",
       "      <th>...</th>\n",
       "      <th>stalk-surface-below-ring</th>\n",
       "      <th>stalk-color-above-ring</th>\n",
       "      <th>stalk-color-below-ring</th>\n",
       "      <th>veil-color</th>\n",
       "      <th>weight</th>\n",
       "      <th>ring-number</th>\n",
       "      <th>ring-type</th>\n",
       "      <th>spore-print-color</th>\n",
       "      <th>population</th>\n",
       "      <th>habitat</th>\n",
       "    </tr>\n",
       "  </thead>\n",
       "  <tbody>\n",
       "    <tr>\n",
       "      <th>0</th>\n",
       "      <td>4</td>\n",
       "      <td>0</td>\n",
       "      <td>3</td>\n",
       "      <td>1</td>\n",
       "      <td>5</td>\n",
       "      <td>1</td>\n",
       "      <td>0</td>\n",
       "      <td>0</td>\n",
       "      <td>9</td>\n",
       "      <td>1</td>\n",
       "      <td>...</td>\n",
       "      <td>2</td>\n",
       "      <td>6</td>\n",
       "      <td>3</td>\n",
       "      <td>2</td>\n",
       "      <td>23</td>\n",
       "      <td>1</td>\n",
       "      <td>4</td>\n",
       "      <td>2</td>\n",
       "      <td>5</td>\n",
       "      <td>0</td>\n",
       "    </tr>\n",
       "    <tr>\n",
       "      <th>1</th>\n",
       "      <td>4</td>\n",
       "      <td>2</td>\n",
       "      <td>3</td>\n",
       "      <td>0</td>\n",
       "      <td>2</td>\n",
       "      <td>1</td>\n",
       "      <td>0</td>\n",
       "      <td>0</td>\n",
       "      <td>2</td>\n",
       "      <td>0</td>\n",
       "      <td>...</td>\n",
       "      <td>1</td>\n",
       "      <td>0</td>\n",
       "      <td>0</td>\n",
       "      <td>2</td>\n",
       "      <td>23</td>\n",
       "      <td>1</td>\n",
       "      <td>2</td>\n",
       "      <td>1</td>\n",
       "      <td>4</td>\n",
       "      <td>0</td>\n",
       "    </tr>\n",
       "    <tr>\n",
       "      <th>2</th>\n",
       "      <td>0</td>\n",
       "      <td>1</td>\n",
       "      <td>8</td>\n",
       "      <td>1</td>\n",
       "      <td>0</td>\n",
       "      <td>1</td>\n",
       "      <td>0</td>\n",
       "      <td>0</td>\n",
       "      <td>10</td>\n",
       "      <td>0</td>\n",
       "      <td>...</td>\n",
       "      <td>2</td>\n",
       "      <td>7</td>\n",
       "      <td>7</td>\n",
       "      <td>2</td>\n",
       "      <td>24</td>\n",
       "      <td>1</td>\n",
       "      <td>4</td>\n",
       "      <td>2</td>\n",
       "      <td>3</td>\n",
       "      <td>3</td>\n",
       "    </tr>\n",
       "    <tr>\n",
       "      <th>3</th>\n",
       "      <td>1</td>\n",
       "      <td>2</td>\n",
       "      <td>9</td>\n",
       "      <td>0</td>\n",
       "      <td>2</td>\n",
       "      <td>1</td>\n",
       "      <td>0</td>\n",
       "      <td>0</td>\n",
       "      <td>7</td>\n",
       "      <td>0</td>\n",
       "      <td>...</td>\n",
       "      <td>1</td>\n",
       "      <td>4</td>\n",
       "      <td>0</td>\n",
       "      <td>2</td>\n",
       "      <td>53</td>\n",
       "      <td>1</td>\n",
       "      <td>2</td>\n",
       "      <td>1</td>\n",
       "      <td>5</td>\n",
       "      <td>0</td>\n",
       "    </tr>\n",
       "    <tr>\n",
       "      <th>4</th>\n",
       "      <td>0</td>\n",
       "      <td>2</td>\n",
       "      <td>9</td>\n",
       "      <td>1</td>\n",
       "      <td>0</td>\n",
       "      <td>1</td>\n",
       "      <td>0</td>\n",
       "      <td>0</td>\n",
       "      <td>10</td>\n",
       "      <td>0</td>\n",
       "      <td>...</td>\n",
       "      <td>2</td>\n",
       "      <td>7</td>\n",
       "      <td>7</td>\n",
       "      <td>2</td>\n",
       "      <td>24</td>\n",
       "      <td>1</td>\n",
       "      <td>4</td>\n",
       "      <td>2</td>\n",
       "      <td>2</td>\n",
       "      <td>3</td>\n",
       "    </tr>\n",
       "  </tbody>\n",
       "</table>\n",
       "<p>5 rows × 23 columns</p>\n",
       "</div>"
      ],
      "text/plain": [
       "   cap-shape  cap-surface  cap-color  bruises  odor  gill-attachment  \\\n",
       "0          4            0          3        1     5                1   \n",
       "1          4            2          3        0     2                1   \n",
       "2          0            1          8        1     0                1   \n",
       "3          1            2          9        0     2                1   \n",
       "4          0            2          9        1     0                1   \n",
       "\n",
       "   gill-spacing  gill-size  gill-color  stalk-shape   ...     \\\n",
       "0             0          0           9            1   ...      \n",
       "1             0          0           2            0   ...      \n",
       "2             0          0          10            0   ...      \n",
       "3             0          0           7            0   ...      \n",
       "4             0          0          10            0   ...      \n",
       "\n",
       "   stalk-surface-below-ring  stalk-color-above-ring  stalk-color-below-ring  \\\n",
       "0                         2                       6                       3   \n",
       "1                         1                       0                       0   \n",
       "2                         2                       7                       7   \n",
       "3                         1                       4                       0   \n",
       "4                         2                       7                       7   \n",
       "\n",
       "   veil-color  weight  ring-number  ring-type  spore-print-color  population  \\\n",
       "0           2      23            1          4                  2           5   \n",
       "1           2      23            1          2                  1           4   \n",
       "2           2      24            1          4                  2           3   \n",
       "3           2      53            1          2                  1           5   \n",
       "4           2      24            1          4                  2           2   \n",
       "\n",
       "   habitat  \n",
       "0        0  \n",
       "1        0  \n",
       "2        3  \n",
       "3        0  \n",
       "4        3  \n",
       "\n",
       "[5 rows x 23 columns]"
      ]
     },
     "execution_count": 83,
     "metadata": {},
     "output_type": "execute_result"
    }
   ],
   "source": [
    "test_db.head()"
   ]
  },
  {
   "cell_type": "code",
   "execution_count": 84,
   "metadata": {
    "collapsed": true
   },
   "outputs": [],
   "source": [
    "is_poisonous = AdaBoost_classfier_model.predict(test_db)"
   ]
  },
  {
   "cell_type": "code",
   "execution_count": 85,
   "metadata": {},
   "outputs": [
    {
     "data": {
      "text/html": [
       "<div>\n",
       "<style>\n",
       "    .dataframe thead tr:only-child th {\n",
       "        text-align: right;\n",
       "    }\n",
       "\n",
       "    .dataframe thead th {\n",
       "        text-align: left;\n",
       "    }\n",
       "\n",
       "    .dataframe tbody tr th {\n",
       "        vertical-align: top;\n",
       "    }\n",
       "</style>\n",
       "<table border=\"1\" class=\"dataframe\">\n",
       "  <thead>\n",
       "    <tr style=\"text-align: right;\">\n",
       "      <th></th>\n",
       "      <th>class</th>\n",
       "    </tr>\n",
       "  </thead>\n",
       "  <tbody>\n",
       "    <tr>\n",
       "      <th>0</th>\n",
       "      <td>0</td>\n",
       "    </tr>\n",
       "    <tr>\n",
       "      <th>1</th>\n",
       "      <td>1</td>\n",
       "    </tr>\n",
       "    <tr>\n",
       "      <th>2</th>\n",
       "      <td>0</td>\n",
       "    </tr>\n",
       "    <tr>\n",
       "      <th>3</th>\n",
       "      <td>1</td>\n",
       "    </tr>\n",
       "    <tr>\n",
       "      <th>4</th>\n",
       "      <td>0</td>\n",
       "    </tr>\n",
       "  </tbody>\n",
       "</table>\n",
       "</div>"
      ],
      "text/plain": [
       "   class\n",
       "0      0\n",
       "1      1\n",
       "2      0\n",
       "3      1\n",
       "4      0"
      ]
     },
     "execution_count": 85,
     "metadata": {},
     "output_type": "execute_result"
    }
   ],
   "source": [
    "df = pd.DataFrame(is_poisonous)\n",
    "df.columns=['class']\n",
    "df.head()"
   ]
  },
  {
   "cell_type": "code",
   "execution_count": 86,
   "metadata": {},
   "outputs": [],
   "source": [
    "poisonous_in_test_data = sum(df['class'])\n",
    "edible_in_test_data = len(df)-poisonous_in_test_data"
   ]
  },
  {
   "cell_type": "code",
   "execution_count": 87,
   "metadata": {},
   "outputs": [
    {
     "data": {
      "text/html": [
       "<div>\n",
       "<style>\n",
       "    .dataframe thead tr:only-child th {\n",
       "        text-align: right;\n",
       "    }\n",
       "\n",
       "    .dataframe thead th {\n",
       "        text-align: left;\n",
       "    }\n",
       "\n",
       "    .dataframe tbody tr th {\n",
       "        vertical-align: top;\n",
       "    }\n",
       "</style>\n",
       "<table border=\"1\" class=\"dataframe\">\n",
       "  <thead>\n",
       "    <tr style=\"text-align: right;\">\n",
       "      <th></th>\n",
       "      <th>class</th>\n",
       "    </tr>\n",
       "  </thead>\n",
       "  <tbody>\n",
       "    <tr>\n",
       "      <th>0</th>\n",
       "      <td>e</td>\n",
       "    </tr>\n",
       "    <tr>\n",
       "      <th>1</th>\n",
       "      <td>p</td>\n",
       "    </tr>\n",
       "    <tr>\n",
       "      <th>2</th>\n",
       "      <td>e</td>\n",
       "    </tr>\n",
       "    <tr>\n",
       "      <th>3</th>\n",
       "      <td>p</td>\n",
       "    </tr>\n",
       "    <tr>\n",
       "      <th>4</th>\n",
       "      <td>e</td>\n",
       "    </tr>\n",
       "  </tbody>\n",
       "</table>\n",
       "</div>"
      ],
      "text/plain": [
       "  class\n",
       "0     e\n",
       "1     p\n",
       "2     e\n",
       "3     p\n",
       "4     e"
      ]
     },
     "execution_count": 87,
     "metadata": {},
     "output_type": "execute_result"
    }
   ],
   "source": [
    "map_df = {0:'e', 1:'p'}\n",
    "df.replace({\"class\":map_df}, inplace=True)\n",
    "df.head()"
   ]
  },
  {
   "cell_type": "code",
   "execution_count": 88,
   "metadata": {
    "collapsed": true
   },
   "outputs": [],
   "source": [
    "result = pd.concat([df, test_db_orignal], axis=1)"
   ]
  },
  {
   "cell_type": "code",
   "execution_count": 89,
   "metadata": {},
   "outputs": [
    {
     "data": {
      "text/html": [
       "<div>\n",
       "<style>\n",
       "    .dataframe thead tr:only-child th {\n",
       "        text-align: right;\n",
       "    }\n",
       "\n",
       "    .dataframe thead th {\n",
       "        text-align: left;\n",
       "    }\n",
       "\n",
       "    .dataframe tbody tr th {\n",
       "        vertical-align: top;\n",
       "    }\n",
       "</style>\n",
       "<table border=\"1\" class=\"dataframe\">\n",
       "  <thead>\n",
       "    <tr style=\"text-align: right;\">\n",
       "      <th></th>\n",
       "      <th>class</th>\n",
       "      <th>cap-shape</th>\n",
       "      <th>cap-surface</th>\n",
       "      <th>cap-color</th>\n",
       "      <th>bruises</th>\n",
       "      <th>odor</th>\n",
       "      <th>gill-attachment</th>\n",
       "      <th>gill-spacing</th>\n",
       "      <th>gill-size</th>\n",
       "      <th>gill-color</th>\n",
       "      <th>...</th>\n",
       "      <th>stalk-surface-below-ring</th>\n",
       "      <th>stalk-color-above-ring</th>\n",
       "      <th>stalk-color-below-ring</th>\n",
       "      <th>veil-color</th>\n",
       "      <th>weight</th>\n",
       "      <th>ring-number</th>\n",
       "      <th>ring-type</th>\n",
       "      <th>spore-print-color</th>\n",
       "      <th>population</th>\n",
       "      <th>habitat</th>\n",
       "    </tr>\n",
       "  </thead>\n",
       "  <tbody>\n",
       "    <tr>\n",
       "      <th>0</th>\n",
       "      <td>e</td>\n",
       "      <td>x</td>\n",
       "      <td>f</td>\n",
       "      <td>g</td>\n",
       "      <td>t</td>\n",
       "      <td>n</td>\n",
       "      <td>f</td>\n",
       "      <td>c</td>\n",
       "      <td>b</td>\n",
       "      <td>u</td>\n",
       "      <td>...</td>\n",
       "      <td>s</td>\n",
       "      <td>p</td>\n",
       "      <td>g</td>\n",
       "      <td>w</td>\n",
       "      <td>23</td>\n",
       "      <td>o</td>\n",
       "      <td>p</td>\n",
       "      <td>k</td>\n",
       "      <td>y</td>\n",
       "      <td>d</td>\n",
       "    </tr>\n",
       "    <tr>\n",
       "      <th>1</th>\n",
       "      <td>p</td>\n",
       "      <td>x</td>\n",
       "      <td>y</td>\n",
       "      <td>g</td>\n",
       "      <td>f</td>\n",
       "      <td>f</td>\n",
       "      <td>f</td>\n",
       "      <td>c</td>\n",
       "      <td>b</td>\n",
       "      <td>g</td>\n",
       "      <td>...</td>\n",
       "      <td>k</td>\n",
       "      <td>b</td>\n",
       "      <td>b</td>\n",
       "      <td>w</td>\n",
       "      <td>23</td>\n",
       "      <td>o</td>\n",
       "      <td>l</td>\n",
       "      <td>h</td>\n",
       "      <td>v</td>\n",
       "      <td>d</td>\n",
       "    </tr>\n",
       "    <tr>\n",
       "      <th>2</th>\n",
       "      <td>e</td>\n",
       "      <td>b</td>\n",
       "      <td>s</td>\n",
       "      <td>w</td>\n",
       "      <td>t</td>\n",
       "      <td>a</td>\n",
       "      <td>f</td>\n",
       "      <td>c</td>\n",
       "      <td>b</td>\n",
       "      <td>w</td>\n",
       "      <td>...</td>\n",
       "      <td>s</td>\n",
       "      <td>w</td>\n",
       "      <td>w</td>\n",
       "      <td>w</td>\n",
       "      <td>24</td>\n",
       "      <td>o</td>\n",
       "      <td>p</td>\n",
       "      <td>k</td>\n",
       "      <td>s</td>\n",
       "      <td>m</td>\n",
       "    </tr>\n",
       "    <tr>\n",
       "      <th>3</th>\n",
       "      <td>p</td>\n",
       "      <td>f</td>\n",
       "      <td>y</td>\n",
       "      <td>y</td>\n",
       "      <td>f</td>\n",
       "      <td>f</td>\n",
       "      <td>f</td>\n",
       "      <td>c</td>\n",
       "      <td>b</td>\n",
       "      <td>p</td>\n",
       "      <td>...</td>\n",
       "      <td>k</td>\n",
       "      <td>n</td>\n",
       "      <td>b</td>\n",
       "      <td>w</td>\n",
       "      <td>53</td>\n",
       "      <td>o</td>\n",
       "      <td>l</td>\n",
       "      <td>h</td>\n",
       "      <td>y</td>\n",
       "      <td>d</td>\n",
       "    </tr>\n",
       "    <tr>\n",
       "      <th>4</th>\n",
       "      <td>e</td>\n",
       "      <td>b</td>\n",
       "      <td>y</td>\n",
       "      <td>y</td>\n",
       "      <td>t</td>\n",
       "      <td>a</td>\n",
       "      <td>f</td>\n",
       "      <td>c</td>\n",
       "      <td>b</td>\n",
       "      <td>w</td>\n",
       "      <td>...</td>\n",
       "      <td>s</td>\n",
       "      <td>w</td>\n",
       "      <td>w</td>\n",
       "      <td>w</td>\n",
       "      <td>24</td>\n",
       "      <td>o</td>\n",
       "      <td>p</td>\n",
       "      <td>k</td>\n",
       "      <td>n</td>\n",
       "      <td>m</td>\n",
       "    </tr>\n",
       "  </tbody>\n",
       "</table>\n",
       "<p>5 rows × 24 columns</p>\n",
       "</div>"
      ],
      "text/plain": [
       "  class cap-shape cap-surface cap-color bruises odor gill-attachment  \\\n",
       "0     e         x           f         g       t    n               f   \n",
       "1     p         x           y         g       f    f               f   \n",
       "2     e         b           s         w       t    a               f   \n",
       "3     p         f           y         y       f    f               f   \n",
       "4     e         b           y         y       t    a               f   \n",
       "\n",
       "  gill-spacing gill-size gill-color   ...   stalk-surface-below-ring  \\\n",
       "0            c         b          u   ...                          s   \n",
       "1            c         b          g   ...                          k   \n",
       "2            c         b          w   ...                          s   \n",
       "3            c         b          p   ...                          k   \n",
       "4            c         b          w   ...                          s   \n",
       "\n",
       "  stalk-color-above-ring  stalk-color-below-ring veil-color weight  \\\n",
       "0                      p                       g          w     23   \n",
       "1                      b                       b          w     23   \n",
       "2                      w                       w          w     24   \n",
       "3                      n                       b          w     53   \n",
       "4                      w                       w          w     24   \n",
       "\n",
       "  ring-number ring-type spore-print-color  population habitat  \n",
       "0           o         p                 k           y       d  \n",
       "1           o         l                 h           v       d  \n",
       "2           o         p                 k           s       m  \n",
       "3           o         l                 h           y       d  \n",
       "4           o         p                 k           n       m  \n",
       "\n",
       "[5 rows x 24 columns]"
      ]
     },
     "execution_count": 89,
     "metadata": {},
     "output_type": "execute_result"
    }
   ],
   "source": [
    "result.head()"
   ]
  },
  {
   "cell_type": "code",
   "execution_count": 90,
   "metadata": {
    "collapsed": true
   },
   "outputs": [],
   "source": [
    "result.to_csv('final_prediction.csv', index=False)"
   ]
  },
  {
   "cell_type": "code",
   "execution_count": 91,
   "metadata": {},
   "outputs": [
    {
     "name": "stdout",
     "output_type": "stream",
     "text": [
      "count of edible mushrooms in test data(based on our prediction) is : 1263\n",
      "count of poisonous mushrooms in test data(based on our prediction) is : 1175\n"
     ]
    }
   ],
   "source": [
    "print \"count of edible mushrooms in test data(based on our prediction) is : %d\" %edible_in_test_data\n",
    "print \"count of poisonous mushrooms in test data(based on our prediction) is : %d\" %poisonous_in_test_data\n",
    "\n"
   ]
  },
  {
   "cell_type": "markdown",
   "metadata": {},
   "source": [
    "###### Here also the percentage of poisonous and edible is around 50-50"
   ]
  },
  {
   "cell_type": "code",
   "execution_count": null,
   "metadata": {
    "collapsed": true
   },
   "outputs": [],
   "source": []
  }
 ],
 "metadata": {
  "kernelspec": {
   "display_name": "Python 2",
   "language": "python",
   "name": "python2"
  },
  "language_info": {
   "codemirror_mode": {
    "name": "ipython",
    "version": 2
   },
   "file_extension": ".py",
   "mimetype": "text/x-python",
   "name": "python",
   "nbconvert_exporter": "python",
   "pygments_lexer": "ipython2",
   "version": "2.7.13"
  }
 },
 "nbformat": 4,
 "nbformat_minor": 2
}
